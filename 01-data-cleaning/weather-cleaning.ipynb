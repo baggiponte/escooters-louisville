{
 "cells": [
  {
   "cell_type": "markdown",
   "metadata": {
    "heading_collapsed": true,
    "id": "N4uYk7VMfH8W"
   },
   "source": [
    "# Setup"
   ]
  },
  {
   "cell_type": "markdown",
   "metadata": {
    "heading_collapsed": true,
    "hidden": true
   },
   "source": [
    "## Libraries"
   ]
  },
  {
   "cell_type": "code",
   "execution_count": 1,
   "metadata": {
    "hidden": true,
    "id": "9llNxVog7uzy",
    "pycharm": {
     "name": "#%%\n"
    }
   },
   "outputs": [],
   "source": [
    "import pandas as pd"
   ]
  },
  {
   "cell_type": "markdown",
   "metadata": {
    "heading_collapsed": true,
    "hidden": true,
    "id": "rLtWs2Kx7uzz",
    "pycharm": {
     "name": "#%% md\n"
    }
   },
   "source": [
    "## Load the dataset\n",
    "let's load the dataset and set column `DATE` as the index."
   ]
  },
  {
   "cell_type": "code",
   "execution_count": 2,
   "metadata": {
    "colab": {
     "base_uri": "https://localhost:8080/"
    },
    "executionInfo": {
     "elapsed": 2350,
     "status": "ok",
     "timestamp": 1606915506378,
     "user": {
      "displayName": "Luca Baggi",
      "photoUrl": "https://lh3.googleusercontent.com/a-/AOh14Ghot0T9DM2E8PvGRS-yV6qnboQmIQtSshdYKGgL=s64",
      "userId": "02213171812671959923"
     },
     "user_tz": -60
    },
    "hidden": true,
    "id": "BRLOIRJn7uz0",
    "outputId": "45ab1738-59ab-4d5a-fac2-f39a9c947ef6"
   },
   "outputs": [
    {
     "name": "stderr",
     "output_type": "stream",
     "text": [
      "/Users/luca/.pyenv/versions/miniconda3-latest/envs/mobility/lib/python3.8/site-packages/IPython/core/interactiveshell.py:3146: DtypeWarning: Columns (30,31,33,34,41,42,43,48,49,51,53,69,71,73,75,76,88,89) have mixed types.Specify dtype option on import or set low_memory=False.\n",
      "  has_raised = await self.run_ast_nodes(code_ast.body, cell_name,\n"
     ]
    }
   ],
   "source": [
    "df_ = pd.read_csv('../rawdata/weather-louisville-noaa.csv', index_col = 'DATE', parse_dates = True)"
   ]
  },
  {
   "cell_type": "markdown",
   "metadata": {
    "heading_collapsed": true,
    "id": "NpuxzNqd7uz3"
   },
   "source": [
    "# Creating a hourly dataset"
   ]
  },
  {
   "cell_type": "markdown",
   "metadata": {
    "hidden": true,
    "id": "tG2OhHpt7uz3"
   },
   "source": [
    "let's create a variable for storing the hourly features we are interested in keeping."
   ]
  },
  {
   "cell_type": "code",
   "execution_count": 3,
   "metadata": {
    "hidden": true,
    "id": "GlwDKayZ7uz3"
   },
   "outputs": [],
   "source": [
    "hourly_features = [ col for col in df_.columns if 'Hourly' in col ]"
   ]
  },
  {
   "cell_type": "markdown",
   "metadata": {
    "hidden": true,
    "id": "eoDFERRx7uz3"
   },
   "source": [
    "Of course, we want to `resample` the data:\n",
    "\n",
    "> resample() is a time-based groupby, followed by a reduction method on each of its groups.\n",
    " \n",
    "Like so:\n",
    "\n",
    "```\n",
    "df_hourly = df[hourly_features].resample('1H').mean()\n",
    "```\n",
    "However, this does not work if there are invalid values which are not `floats` but `objects`."
   ]
  },
  {
   "cell_type": "code",
   "execution_count": 4,
   "metadata": {
    "hidden": true,
    "id": "gwmjbXVO7uz3"
   },
   "outputs": [],
   "source": [
    "df = df_[hourly_features]"
   ]
  },
  {
   "cell_type": "markdown",
   "metadata": {
    "hidden": true,
    "id": "-8iFtAU67uz3"
   },
   "source": [
    "Now that we have all `hourly` variables we can rename the features to make it less redundant. **remember that `.columns` is an attribute of the `DataFrame`!**"
   ]
  },
  {
   "cell_type": "code",
   "execution_count": 5,
   "metadata": {
    "colab": {
     "base_uri": "https://localhost:8080/"
    },
    "executionInfo": {
     "elapsed": 2335,
     "status": "ok",
     "timestamp": 1606915506381,
     "user": {
      "displayName": "Luca Baggi",
      "photoUrl": "https://lh3.googleusercontent.com/a-/AOh14Ghot0T9DM2E8PvGRS-yV6qnboQmIQtSshdYKGgL=s64",
      "userId": "02213171812671959923"
     },
     "user_tz": -60
    },
    "hidden": true,
    "id": "VMHVTzaM7uz3",
    "outputId": "684ba0f9-e64b-470f-d77c-302521128862"
   },
   "outputs": [
    {
     "data": {
      "text/plain": [
       "Index(['HourlyAltimeterSetting', 'HourlyDewPointTemperature',\n",
       "       'HourlyDryBulbTemperature', 'HourlyPrecipitation',\n",
       "       'HourlyPresentWeatherType', 'HourlyPressureChange',\n",
       "       'HourlyPressureTendency', 'HourlyRelativeHumidity',\n",
       "       'HourlySeaLevelPressure', 'HourlySkyConditions',\n",
       "       'HourlyStationPressure', 'HourlyVisibility', 'HourlyWetBulbTemperature',\n",
       "       'HourlyWindDirection', 'HourlyWindGustSpeed', 'HourlyWindSpeed'],\n",
       "      dtype='object')"
      ]
     },
     "execution_count": 5,
     "metadata": {},
     "output_type": "execute_result"
    }
   ],
   "source": [
    "df.columns"
   ]
  },
  {
   "cell_type": "code",
   "execution_count": 6,
   "metadata": {
    "hidden": true,
    "id": "WVXJM8SS7uz3"
   },
   "outputs": [],
   "source": [
    "df.columns = df.columns.str.replace('Hourly', '')"
   ]
  },
  {
   "cell_type": "code",
   "execution_count": 7,
   "metadata": {
    "colab": {
     "base_uri": "https://localhost:8080/"
    },
    "executionInfo": {
     "elapsed": 2324,
     "status": "ok",
     "timestamp": 1606915506383,
     "user": {
      "displayName": "Luca Baggi",
      "photoUrl": "https://lh3.googleusercontent.com/a-/AOh14Ghot0T9DM2E8PvGRS-yV6qnboQmIQtSshdYKGgL=s64",
      "userId": "02213171812671959923"
     },
     "user_tz": -60
    },
    "hidden": true,
    "id": "5oYWXMDA7uz3",
    "outputId": "96207f42-7382-4707-a8cb-2c596b0b4a40"
   },
   "outputs": [
    {
     "data": {
      "text/plain": [
       "Index(['AltimeterSetting', 'DewPointTemperature', 'DryBulbTemperature',\n",
       "       'Precipitation', 'PresentWeatherType', 'PressureChange',\n",
       "       'PressureTendency', 'RelativeHumidity', 'SeaLevelPressure',\n",
       "       'SkyConditions', 'StationPressure', 'Visibility', 'WetBulbTemperature',\n",
       "       'WindDirection', 'WindGustSpeed', 'WindSpeed'],\n",
       "      dtype='object')"
      ]
     },
     "execution_count": 7,
     "metadata": {},
     "output_type": "execute_result"
    }
   ],
   "source": [
    "df.columns"
   ]
  },
  {
   "cell_type": "code",
   "execution_count": 8,
   "metadata": {
    "hidden": true,
    "id": "Nk7vnfc37uz3"
   },
   "outputs": [],
   "source": [
    "to_drop = ['AltimeterSetting',\n",
    "           'PresentWeatherType',\n",
    "           'PressureTendency',\n",
    "           'SeaLevelPressure',\n",
    "           'StationPressure',\n",
    "           'SkyConditions',\n",
    "           'WindDirection',\n",
    "           'WindGustSpeed']"
   ]
  },
  {
   "cell_type": "code",
   "execution_count": 9,
   "metadata": {
    "hidden": true,
    "id": "hLb3JRV17uz3"
   },
   "outputs": [],
   "source": [
    "df = df.drop(to_drop, axis = 1)  # specify that axis = 1, that is we are dropping columns"
   ]
  },
  {
   "cell_type": "markdown",
   "metadata": {
    "heading_collapsed": true,
    "id": "5OLceP0T7uz4"
   },
   "source": [
    "# Data Wrangling"
   ]
  },
  {
   "cell_type": "code",
   "execution_count": 10,
   "metadata": {
    "colab": {
     "base_uri": "https://localhost:8080/"
    },
    "executionInfo": {
     "elapsed": 2305,
     "status": "ok",
     "timestamp": 1606915506386,
     "user": {
      "displayName": "Luca Baggi",
      "photoUrl": "https://lh3.googleusercontent.com/a-/AOh14Ghot0T9DM2E8PvGRS-yV6qnboQmIQtSshdYKGgL=s64",
      "userId": "02213171812671959923"
     },
     "user_tz": -60
    },
    "hidden": true,
    "id": "1rvBrvqZ7uz4",
    "outputId": "e318a21e-868c-4ac8-ad6d-4bec3afdf3ae"
   },
   "outputs": [
    {
     "name": "stdout",
     "output_type": "stream",
     "text": [
      "<class 'pandas.core.frame.DataFrame'>\n",
      "DatetimeIndex: 55438 entries, 2017-01-01 00:56:00 to 2020-11-01 23:59:00\n",
      "Data columns (total 8 columns):\n",
      " #   Column               Non-Null Count  Dtype  \n",
      "---  ------               --------------  -----  \n",
      " 0   DewPointTemperature  53972 non-null  object \n",
      " 1   DryBulbTemperature   53980 non-null  object \n",
      " 2   Precipitation        39079 non-null  object \n",
      " 3   PressureChange       22139 non-null  float64\n",
      " 4   RelativeHumidity     53972 non-null  object \n",
      " 5   Visibility           53978 non-null  object \n",
      " 6   WetBulbTemperature   53872 non-null  object \n",
      " 7   WindSpeed            53969 non-null  float64\n",
      "dtypes: float64(2), object(6)\n",
      "memory usage: 3.8+ MB\n"
     ]
    }
   ],
   "source": [
    "df.info()"
   ]
  },
  {
   "cell_type": "markdown",
   "metadata": {
    "hidden": true,
    "id": "liSchURg7uz4"
   },
   "source": [
    "`PressureChange` and `WindSpeed` are `float64`, so we won't have to look at them!\n",
    "\n",
    "#### `object` type\n",
    "\n",
    "> The object data type is a special one. According to the Pandas Cookbook, the object data type is “a catch-all for columns that Pandas doesn’t recognize as any other specific type.” In practice, it often means that all of the values in the column are strings.\n",
    "\n",
    "There are quite a few problems: `Dtype` is not what we expect for most of the variables. There are several missing values; however, those for `HourlyPrecipitations` make sense: when it does not rain is zero, of course. The same goes for `HourlyPressureChange`. Also, there will also be *invalid values* as well.\n",
    "\n",
    "> Upon inspection, all of the data types are currently the object dtype, which is roughly analogous to str in native Python. It encapsulates any field that can’t be neatly fit as numerical or categorical data. This makes sense since we’re working with data that is initially a bunch of messy strings."
   ]
  },
  {
   "cell_type": "code",
   "execution_count": 11,
   "metadata": {
    "hidden": true,
    "id": "8FPM0Qm27uz4"
   },
   "outputs": [],
   "source": [
    "import numpy as np # because we might need np.NaN"
   ]
  },
  {
   "cell_type": "markdown",
   "metadata": {
    "heading_collapsed": true,
    "hidden": true,
    "id": "VS0Pjth87uz4"
   },
   "source": [
    "## Visibility"
   ]
  },
  {
   "cell_type": "code",
   "execution_count": 12,
   "metadata": {
    "colab": {
     "base_uri": "https://localhost:8080/"
    },
    "executionInfo": {
     "elapsed": 2292,
     "status": "ok",
     "timestamp": 1606915506387,
     "user": {
      "displayName": "Luca Baggi",
      "photoUrl": "https://lh3.googleusercontent.com/a-/AOh14Ghot0T9DM2E8PvGRS-yV6qnboQmIQtSshdYKGgL=s64",
      "userId": "02213171812671959923"
     },
     "user_tz": -60
    },
    "hidden": true,
    "id": "90-dCghX7uz4",
    "outputId": "3862a11c-ea95-48b6-88d7-e74909d8ae7a"
   },
   "outputs": [
    {
     "data": {
      "text/plain": [
       "10.00    31670\n",
       "9.94      9187\n",
       "9.00      1975\n",
       "8.00      1256\n",
       "7.00      1197\n",
       "3.00      1154\n",
       "4.00       962\n",
       "6.00       953\n",
       "5.00       927\n",
       "2.50       922\n",
       "2.00       684\n",
       "8.70       496\n",
       "7.46       320\n",
       "1.50       308\n",
       "1.75       237\n",
       "6.84       233\n",
       "1.00       198\n",
       "5.59       182\n",
       "4.97       147\n",
       "3.73       133\n",
       "0.75       131\n",
       "0.25       117\n",
       "1.25       117\n",
       "2.98       103\n",
       "2.49        91\n",
       "0.50        75\n",
       "1.99        49\n",
       "0.12        45\n",
       "0.99        20\n",
       "1.49        17\n",
       "2.50V       15\n",
       "1.74        14\n",
       "1.24        12\n",
       "0.00        10\n",
       "2.00V        7\n",
       "1.25V        4\n",
       "1.75V        4\n",
       "1.00V        2\n",
       "99.42        2\n",
       "0.06         1\n",
       "1.50V        1\n",
       "Name: Visibility, dtype: int64"
      ]
     },
     "execution_count": 12,
     "metadata": {},
     "output_type": "execute_result"
    }
   ],
   "source": [
    "df['Visibility'].value_counts()"
   ]
  },
  {
   "cell_type": "code",
   "execution_count": 13,
   "metadata": {
    "hidden": true,
    "id": "IyO7sXt77uz4"
   },
   "outputs": [],
   "source": [
    "df['Visibility'] = df['Visibility'].str.replace('[A-Z$]', '', regex = True).astype('float')"
   ]
  },
  {
   "cell_type": "code",
   "execution_count": 14,
   "metadata": {
    "hidden": true,
    "id": "3UsOQwOa7uz4"
   },
   "outputs": [],
   "source": [
    "df['Visibility'] = df['Visibility'].replace(99.42, 9.94)"
   ]
  },
  {
   "cell_type": "markdown",
   "metadata": {
    "heading_collapsed": true,
    "hidden": true,
    "id": "h2X8m7dC7uz4"
   },
   "source": [
    "## Relative Humidity"
   ]
  },
  {
   "cell_type": "code",
   "execution_count": 15,
   "metadata": {
    "colab": {
     "base_uri": "https://localhost:8080/"
    },
    "executionInfo": {
     "elapsed": 2275,
     "status": "ok",
     "timestamp": 1606915506389,
     "user": {
      "displayName": "Luca Baggi",
      "photoUrl": "https://lh3.googleusercontent.com/a-/AOh14Ghot0T9DM2E8PvGRS-yV6qnboQmIQtSshdYKGgL=s64",
      "userId": "02213171812671959923"
     },
     "user_tz": -60
    },
    "hidden": true,
    "id": "OuzYBhKB7uz4",
    "outputId": "45449943-0aa2-4571-8fbe-654f2460e36b"
   },
   "outputs": [
    {
     "data": {
      "text/plain": [
       "93.0    2174\n",
       "90.0    1815\n",
       "87.0    1510\n",
       "79.0    1465\n",
       "89.0    1313\n",
       "        ... \n",
       "21         3\n",
       "23         3\n",
       "22         3\n",
       "98.0       2\n",
       "*          1\n",
       "Name: RelativeHumidity, Length: 163, dtype: int64"
      ]
     },
     "execution_count": 15,
     "metadata": {},
     "output_type": "execute_result"
    }
   ],
   "source": [
    "df['RelativeHumidity'].value_counts()"
   ]
  },
  {
   "cell_type": "code",
   "execution_count": 16,
   "metadata": {
    "hidden": true,
    "id": "7cIoI6pH7uz4"
   },
   "outputs": [],
   "source": [
    "df['RelativeHumidity'] = df['RelativeHumidity'].replace(r'*', np.NaN)"
   ]
  },
  {
   "cell_type": "code",
   "execution_count": 17,
   "metadata": {
    "hidden": true,
    "id": "hGVVBbfD7uz4"
   },
   "outputs": [],
   "source": [
    "df['RelativeHumidity'] = df['RelativeHumidity'].astype('float')"
   ]
  },
  {
   "cell_type": "markdown",
   "metadata": {
    "heading_collapsed": true,
    "hidden": true,
    "id": "Ob63ujgp7uz4"
   },
   "source": [
    "## Temperatures\n",
    "\n",
    "Data from `DryBulbTemperature`, `DewPointTemperature`, `WetBulbTemperature`."
   ]
  },
  {
   "cell_type": "code",
   "execution_count": 18,
   "metadata": {
    "hidden": true,
    "id": "U40qnpP_7uz4"
   },
   "outputs": [],
   "source": [
    "temperature = ['DryBulbTemperature', 'DewPointTemperature','WetBulbTemperature']"
   ]
  },
  {
   "cell_type": "code",
   "execution_count": 19,
   "metadata": {
    "hidden": true,
    "id": "zSXoD1Xh7uz4"
   },
   "outputs": [],
   "source": [
    "for col in temperature:\n",
    "    df[col] = df[col].str.replace(r'[a-z]', '', regex = True)\n",
    "    df[col] = df[col].replace(r'*', np.NaN)\n",
    "    df[col] = df[col].astype('float')\n",
    "    df[col] = (df[col] - 32) * 5/9    "
   ]
  },
  {
   "cell_type": "markdown",
   "metadata": {
    "heading_collapsed": true,
    "hidden": true,
    "id": "kANJO6dS7uz4"
   },
   "source": [
    "## Precipitations"
   ]
  },
  {
   "cell_type": "markdown",
   "metadata": {
    "hidden": true,
    "id": "-6TwwzUz7uz4"
   },
   "source": [
    "**ATTENTION!**\n",
    "\n",
    "Instances of `T` were replaced, but the `type` remained `string`! We have to change it to `float`."
   ]
  },
  {
   "cell_type": "code",
   "execution_count": 20,
   "metadata": {
    "hidden": true,
    "id": "CeL1pVTe7uz4"
   },
   "outputs": [],
   "source": [
    "df['Precipitation'] = df['Precipitation'].replace('T', 0.01)"
   ]
  },
  {
   "cell_type": "code",
   "execution_count": 21,
   "metadata": {
    "hidden": true,
    "id": "qNPID-Nw7uz4"
   },
   "outputs": [],
   "source": [
    "df['Precipitation'] = df['Precipitation'].str.replace('[a-z]', '').astype('float')"
   ]
  },
  {
   "cell_type": "code",
   "execution_count": 22,
   "metadata": {
    "hidden": true,
    "id": "EceDLhl97uz4"
   },
   "outputs": [],
   "source": [
    "df['Precipitation'] = df['Precipitation'] * 254 # transform hundredths of inches to mm"
   ]
  },
  {
   "cell_type": "code",
   "execution_count": 23,
   "metadata": {
    "colab": {
     "base_uri": "https://localhost:8080/"
    },
    "executionInfo": {
     "elapsed": 2613,
     "status": "ok",
     "timestamp": 1606915506777,
     "user": {
      "displayName": "Luca Baggi",
      "photoUrl": "https://lh3.googleusercontent.com/a-/AOh14Ghot0T9DM2E8PvGRS-yV6qnboQmIQtSshdYKGgL=s64",
      "userId": "02213171812671959923"
     },
     "user_tz": -60
    },
    "hidden": true,
    "id": "eTtq_FaN7uz4",
    "outputId": "362b77f8-7347-4677-8c18-1f84f3de93b3"
   },
   "outputs": [
    {
     "data": {
      "text/plain": [
       "0.00      27846\n",
       "2.54       1471\n",
       "5.08        845\n",
       "7.62        565\n",
       "10.16       400\n",
       "          ...  \n",
       "241.30        1\n",
       "294.64        1\n",
       "276.86        1\n",
       "198.12        1\n",
       "292.10        1\n",
       "Name: Precipitation, Length: 111, dtype: int64"
      ]
     },
     "execution_count": 23,
     "metadata": {},
     "output_type": "execute_result"
    }
   ],
   "source": [
    "df['Precipitation'].value_counts()"
   ]
  },
  {
   "cell_type": "markdown",
   "metadata": {
    "heading_collapsed": true,
    "hidden": true,
    "id": "J2zBwMLfn0fr"
   },
   "source": [
    "## WindSpeed"
   ]
  },
  {
   "cell_type": "code",
   "execution_count": 24,
   "metadata": {
    "hidden": true,
    "id": "jKZwQgwcnkzm"
   },
   "outputs": [],
   "source": [
    "df.WindSpeed = df.WindSpeed.apply(lambda x : x * 1.609)"
   ]
  },
  {
   "cell_type": "markdown",
   "metadata": {
    "heading_collapsed": true,
    "id": "VVLfqey_7uz4"
   },
   "source": [
    "# Resampling & Feature Selection"
   ]
  },
  {
   "cell_type": "code",
   "execution_count": 25,
   "metadata": {
    "colab": {
     "base_uri": "https://localhost:8080/"
    },
    "executionInfo": {
     "elapsed": 2603,
     "status": "ok",
     "timestamp": 1606915506781,
     "user": {
      "displayName": "Luca Baggi",
      "photoUrl": "https://lh3.googleusercontent.com/a-/AOh14Ghot0T9DM2E8PvGRS-yV6qnboQmIQtSshdYKGgL=s64",
      "userId": "02213171812671959923"
     },
     "user_tz": -60
    },
    "hidden": true,
    "id": "fXihQbI_7uz4",
    "outputId": "0cab949d-2dbf-4bdf-c6c5-f2ebe8fa4166"
   },
   "outputs": [
    {
     "name": "stdout",
     "output_type": "stream",
     "text": [
      "<class 'pandas.core.frame.DataFrame'>\n",
      "DatetimeIndex: 55438 entries, 2017-01-01 00:56:00 to 2020-11-01 23:59:00\n",
      "Data columns (total 8 columns):\n",
      " #   Column               Non-Null Count  Dtype  \n",
      "---  ------               --------------  -----  \n",
      " 0   DewPointTemperature  14088 non-null  float64\n",
      " 1   DryBulbTemperature   38019 non-null  float64\n",
      " 2   Precipitation        33798 non-null  float64\n",
      " 3   PressureChange       22139 non-null  float64\n",
      " 4   RelativeHumidity     53971 non-null  float64\n",
      " 5   Visibility           53978 non-null  float64\n",
      " 6   WetBulbTemperature   6118 non-null   float64\n",
      " 7   WindSpeed            53969 non-null  float64\n",
      "dtypes: float64(8)\n",
      "memory usage: 3.8 MB\n"
     ]
    }
   ],
   "source": [
    "df.info()"
   ]
  },
  {
   "cell_type": "code",
   "execution_count": 26,
   "metadata": {
    "hidden": true,
    "id": "NXLmhP687uz4"
   },
   "outputs": [],
   "source": [
    "hourly = df.resample('1H').mean()"
   ]
  },
  {
   "cell_type": "code",
   "execution_count": 27,
   "metadata": {
    "colab": {
     "base_uri": "https://localhost:8080/"
    },
    "executionInfo": {
     "elapsed": 2592,
     "status": "ok",
     "timestamp": 1606915506783,
     "user": {
      "displayName": "Luca Baggi",
      "photoUrl": "https://lh3.googleusercontent.com/a-/AOh14Ghot0T9DM2E8PvGRS-yV6qnboQmIQtSshdYKGgL=s64",
      "userId": "02213171812671959923"
     },
     "user_tz": -60
    },
    "hidden": true,
    "id": "KlxlE_mY7uz4",
    "outputId": "ca7ed3d8-40c7-49b2-fddc-71d22f5a7883"
   },
   "outputs": [
    {
     "data": {
      "text/plain": [
       "DewPointTemperature    24617\n",
       "DryBulbTemperature      9793\n",
       "Precipitation           3122\n",
       "PressureChange         11488\n",
       "RelativeHumidity           0\n",
       "Visibility                 1\n",
       "WetBulbTemperature     29792\n",
       "WindSpeed                  5\n",
       "dtype: int64"
      ]
     },
     "execution_count": 27,
     "metadata": {},
     "output_type": "execute_result"
    }
   ],
   "source": [
    "hourly.isnull().sum()"
   ]
  },
  {
   "cell_type": "markdown",
   "metadata": {
    "hidden": true,
    "id": "reBraDmH7uz5"
   },
   "source": [
    "There are too few observations for `DewPointTemperature` and `WetBulbTemperature`. However, these measures are a function of `DryBulbTemperature` and `RelativeHumidity`, so the information of these two features is already contained in these two measures. Also, we expect `Precipitation` and `Visibility` to have a greater impact (conditonal on the level of `DryBulbTemperature` as well) on the usage of e-scooters. `PressureChange` variance is so tiny it does not bring any additional information to the analysis."
   ]
  },
  {
   "cell_type": "code",
   "execution_count": 28,
   "metadata": {
    "hidden": true,
    "id": "cizi9TQb7uz5"
   },
   "outputs": [],
   "source": [
    "del hourly['DewPointTemperature']\n",
    "del hourly['WetBulbTemperature']\n",
    "del hourly['PressureChange']"
   ]
  },
  {
   "cell_type": "markdown",
   "metadata": {
    "heading_collapsed": true
   },
   "source": [
    "# Missing Values"
   ]
  },
  {
   "cell_type": "code",
   "execution_count": 29,
   "metadata": {
    "hidden": true
   },
   "outputs": [
    {
     "data": {
      "text/html": [
       "<div>\n",
       "<style scoped>\n",
       "    .dataframe tbody tr th:only-of-type {\n",
       "        vertical-align: middle;\n",
       "    }\n",
       "\n",
       "    .dataframe tbody tr th {\n",
       "        vertical-align: top;\n",
       "    }\n",
       "\n",
       "    .dataframe thead th {\n",
       "        text-align: right;\n",
       "    }\n",
       "</style>\n",
       "<table border=\"1\" class=\"dataframe\">\n",
       "  <thead>\n",
       "    <tr style=\"text-align: right;\">\n",
       "      <th></th>\n",
       "      <th>DryBulbTemperature</th>\n",
       "      <th>Precipitation</th>\n",
       "      <th>RelativeHumidity</th>\n",
       "      <th>Visibility</th>\n",
       "      <th>WindSpeed</th>\n",
       "    </tr>\n",
       "    <tr>\n",
       "      <th>DATE</th>\n",
       "      <th></th>\n",
       "      <th></th>\n",
       "      <th></th>\n",
       "      <th></th>\n",
       "      <th></th>\n",
       "    </tr>\n",
       "  </thead>\n",
       "  <tbody>\n",
       "    <tr>\n",
       "      <th>2017-01-01 00:00:00</th>\n",
       "      <td>6.111111</td>\n",
       "      <td>0.0</td>\n",
       "      <td>82.0</td>\n",
       "      <td>10.000</td>\n",
       "      <td>4.8270</td>\n",
       "    </tr>\n",
       "    <tr>\n",
       "      <th>2017-01-01 01:00:00</th>\n",
       "      <td>6.111111</td>\n",
       "      <td>0.0</td>\n",
       "      <td>82.0</td>\n",
       "      <td>9.970</td>\n",
       "      <td>2.4135</td>\n",
       "    </tr>\n",
       "    <tr>\n",
       "      <th>2017-01-01 02:00:00</th>\n",
       "      <td>5.555556</td>\n",
       "      <td>0.0</td>\n",
       "      <td>79.0</td>\n",
       "      <td>10.000</td>\n",
       "      <td>0.0000</td>\n",
       "    </tr>\n",
       "    <tr>\n",
       "      <th>2017-01-01 03:00:00</th>\n",
       "      <td>5.000000</td>\n",
       "      <td>0.0</td>\n",
       "      <td>89.0</td>\n",
       "      <td>6.000</td>\n",
       "      <td>9.6540</td>\n",
       "    </tr>\n",
       "    <tr>\n",
       "      <th>2017-01-01 04:00:00</th>\n",
       "      <td>5.000000</td>\n",
       "      <td>0.0</td>\n",
       "      <td>89.0</td>\n",
       "      <td>5.295</td>\n",
       "      <td>4.8270</td>\n",
       "    </tr>\n",
       "  </tbody>\n",
       "</table>\n",
       "</div>"
      ],
      "text/plain": [
       "                     DryBulbTemperature  Precipitation  RelativeHumidity  \\\n",
       "DATE                                                                       \n",
       "2017-01-01 00:00:00            6.111111            0.0              82.0   \n",
       "2017-01-01 01:00:00            6.111111            0.0              82.0   \n",
       "2017-01-01 02:00:00            5.555556            0.0              79.0   \n",
       "2017-01-01 03:00:00            5.000000            0.0              89.0   \n",
       "2017-01-01 04:00:00            5.000000            0.0              89.0   \n",
       "\n",
       "                     Visibility  WindSpeed  \n",
       "DATE                                        \n",
       "2017-01-01 00:00:00      10.000     4.8270  \n",
       "2017-01-01 01:00:00       9.970     2.4135  \n",
       "2017-01-01 02:00:00      10.000     0.0000  \n",
       "2017-01-01 03:00:00       6.000     9.6540  \n",
       "2017-01-01 04:00:00       5.295     4.8270  "
      ]
     },
     "execution_count": 29,
     "metadata": {},
     "output_type": "execute_result"
    }
   ],
   "source": [
    "hourly.head()"
   ]
  },
  {
   "cell_type": "code",
   "execution_count": 30,
   "metadata": {
    "colab": {
     "base_uri": "https://localhost:8080/"
    },
    "executionInfo": {
     "elapsed": 2581,
     "status": "ok",
     "timestamp": 1606915506785,
     "user": {
      "displayName": "Luca Baggi",
      "photoUrl": "https://lh3.googleusercontent.com/a-/AOh14Ghot0T9DM2E8PvGRS-yV6qnboQmIQtSshdYKGgL=s64",
      "userId": "02213171812671959923"
     },
     "user_tz": -60
    },
    "hidden": true,
    "id": "3mVds1nR7uz5",
    "outputId": "0acc93b0-0c94-4cfa-ca5e-cb4ef726a719"
   },
   "outputs": [
    {
     "data": {
      "text/plain": [
       "DryBulbTemperature    9793\n",
       "Precipitation         3122\n",
       "RelativeHumidity         0\n",
       "Visibility               1\n",
       "WindSpeed                5\n",
       "dtype: int64"
      ]
     },
     "execution_count": 30,
     "metadata": {},
     "output_type": "execute_result"
    }
   ],
   "source": [
    "hourly.isnull().sum()"
   ]
  },
  {
   "cell_type": "code",
   "execution_count": 31,
   "metadata": {
    "hidden": true,
    "id": "UBQ83K0W7uz5"
   },
   "outputs": [],
   "source": [
    "interpolate = ['Precipitation', 'WindSpeed', 'Visibility']\n",
    "\n",
    "for col in interpolate:\n",
    "    hourly[col] = hourly[col].interpolate()"
   ]
  },
  {
   "cell_type": "code",
   "execution_count": 32,
   "metadata": {
    "hidden": true
   },
   "outputs": [],
   "source": [
    "import matplotlib.pyplot as plt"
   ]
  },
  {
   "cell_type": "code",
   "execution_count": 33,
   "metadata": {
    "hidden": true
   },
   "outputs": [
    {
     "data": {
      "text/plain": [
       "5"
      ]
     },
     "execution_count": 33,
     "metadata": {},
     "output_type": "execute_result"
    }
   ],
   "source": [
    "len(hourly.columns)"
   ]
  },
  {
   "cell_type": "code",
   "execution_count": 34,
   "metadata": {
    "hidden": true
   },
   "outputs": [
    {
     "data": {
      "text/plain": [
       "Index(['Temperature', 'Precipitation', 'Humidity', 'Visibility', 'WindSpeed'], dtype='object')"
      ]
     },
     "execution_count": 34,
     "metadata": {},
     "output_type": "execute_result"
    }
   ],
   "source": [
    "hourly.rename(columns={'DryBulbTemperature' : 'Temperature', 'RelativeHumidity': 'Humidity'}, inplace = True)\n",
    "hourly.columns"
   ]
  },
  {
   "cell_type": "code",
   "execution_count": 35,
   "metadata": {
    "hidden": true
   },
   "outputs": [
    {
     "data": {
      "text/plain": [
       "[<matplotlib.lines.Line2D at 0x7faa81215d60>]"
      ]
     },
     "execution_count": 35,
     "metadata": {},
     "output_type": "execute_result"
    },
    {
     "data": {
      "image/png": "[encoded data removed]",
      "text/plain": [
       "<Figure size 1080x720 with 6 Axes>"
      ]
     },
     "metadata": {
      "needs_background": "light"
     },
     "output_type": "display_data"
    }
   ],
   "source": [
    "fig, ax = plt.subplots(3, 2, figsize = (15,10))\n",
    "\n",
    "ax.flat[0].plot(hourly.index, hourly['Temperature'])\n",
    "ax.flat[1].plot(hourly.index, hourly['Precipitation'])\n",
    "ax.flat[2].plot(hourly.index, hourly['Humidity'])\n",
    "ax.flat[3].plot(hourly.index, hourly['Visibility'])\n",
    "ax.flat[4].plot(hourly.index, hourly['WindSpeed'])"
   ]
  },
  {
   "cell_type": "markdown",
   "metadata": {
    "hidden": true
   },
   "source": [
    "There are a lot of missing values in the `Temperature` data: we will drop them in the subsequent analysis."
   ]
  },
  {
   "cell_type": "markdown",
   "metadata": {},
   "source": [
    "# Minor Tweaks & Export"
   ]
  },
  {
   "cell_type": "code",
   "execution_count": 36,
   "metadata": {},
   "outputs": [
    {
     "data": {
      "text/html": [
       "<div>\n",
       "<style scoped>\n",
       "    .dataframe tbody tr th:only-of-type {\n",
       "        vertical-align: middle;\n",
       "    }\n",
       "\n",
       "    .dataframe tbody tr th {\n",
       "        vertical-align: top;\n",
       "    }\n",
       "\n",
       "    .dataframe thead th {\n",
       "        text-align: right;\n",
       "    }\n",
       "</style>\n",
       "<table border=\"1\" class=\"dataframe\">\n",
       "  <thead>\n",
       "    <tr style=\"text-align: right;\">\n",
       "      <th></th>\n",
       "      <th>DATE</th>\n",
       "      <th>Temperature</th>\n",
       "      <th>Precipitation</th>\n",
       "      <th>Humidity</th>\n",
       "      <th>Visibility</th>\n",
       "      <th>WindSpeed</th>\n",
       "    </tr>\n",
       "  </thead>\n",
       "  <tbody>\n",
       "    <tr>\n",
       "      <th>0</th>\n",
       "      <td>2017-01-01 00:00:00</td>\n",
       "      <td>6.111111</td>\n",
       "      <td>0.0</td>\n",
       "      <td>82.0</td>\n",
       "      <td>10.000</td>\n",
       "      <td>4.8270</td>\n",
       "    </tr>\n",
       "    <tr>\n",
       "      <th>1</th>\n",
       "      <td>2017-01-01 01:00:00</td>\n",
       "      <td>6.111111</td>\n",
       "      <td>0.0</td>\n",
       "      <td>82.0</td>\n",
       "      <td>9.970</td>\n",
       "      <td>2.4135</td>\n",
       "    </tr>\n",
       "    <tr>\n",
       "      <th>2</th>\n",
       "      <td>2017-01-01 02:00:00</td>\n",
       "      <td>5.555556</td>\n",
       "      <td>0.0</td>\n",
       "      <td>79.0</td>\n",
       "      <td>10.000</td>\n",
       "      <td>0.0000</td>\n",
       "    </tr>\n",
       "    <tr>\n",
       "      <th>3</th>\n",
       "      <td>2017-01-01 03:00:00</td>\n",
       "      <td>5.000000</td>\n",
       "      <td>0.0</td>\n",
       "      <td>89.0</td>\n",
       "      <td>6.000</td>\n",
       "      <td>9.6540</td>\n",
       "    </tr>\n",
       "    <tr>\n",
       "      <th>4</th>\n",
       "      <td>2017-01-01 04:00:00</td>\n",
       "      <td>5.000000</td>\n",
       "      <td>0.0</td>\n",
       "      <td>89.0</td>\n",
       "      <td>5.295</td>\n",
       "      <td>4.8270</td>\n",
       "    </tr>\n",
       "  </tbody>\n",
       "</table>\n",
       "</div>"
      ],
      "text/plain": [
       "                 DATE  Temperature  Precipitation  Humidity  Visibility  \\\n",
       "0 2017-01-01 00:00:00     6.111111            0.0      82.0      10.000   \n",
       "1 2017-01-01 01:00:00     6.111111            0.0      82.0       9.970   \n",
       "2 2017-01-01 02:00:00     5.555556            0.0      79.0      10.000   \n",
       "3 2017-01-01 03:00:00     5.000000            0.0      89.0       6.000   \n",
       "4 2017-01-01 04:00:00     5.000000            0.0      89.0       5.295   \n",
       "\n",
       "   WindSpeed  \n",
       "0     4.8270  \n",
       "1     2.4135  \n",
       "2     0.0000  \n",
       "3     9.6540  \n",
       "4     4.8270  "
      ]
     },
     "execution_count": 36,
     "metadata": {},
     "output_type": "execute_result"
    }
   ],
   "source": [
    "hourly.reset_index(inplace = True)\n",
    "hourly.head()"
   ]
  },
  {
   "cell_type": "code",
   "execution_count": 37,
   "metadata": {},
   "outputs": [
    {
     "data": {
      "text/html": [
       "<div>\n",
       "<style scoped>\n",
       "    .dataframe tbody tr th:only-of-type {\n",
       "        vertical-align: middle;\n",
       "    }\n",
       "\n",
       "    .dataframe tbody tr th {\n",
       "        vertical-align: top;\n",
       "    }\n",
       "\n",
       "    .dataframe thead th {\n",
       "        text-align: right;\n",
       "    }\n",
       "</style>\n",
       "<table border=\"1\" class=\"dataframe\">\n",
       "  <thead>\n",
       "    <tr style=\"text-align: right;\">\n",
       "      <th></th>\n",
       "      <th>Temperature</th>\n",
       "      <th>Precipitation</th>\n",
       "      <th>Humidity</th>\n",
       "      <th>Visibility</th>\n",
       "      <th>WindSpeed</th>\n",
       "    </tr>\n",
       "    <tr>\n",
       "      <th>Date</th>\n",
       "      <th></th>\n",
       "      <th></th>\n",
       "      <th></th>\n",
       "      <th></th>\n",
       "      <th></th>\n",
       "    </tr>\n",
       "  </thead>\n",
       "  <tbody>\n",
       "    <tr>\n",
       "      <th>2017-01-01 00:00:00</th>\n",
       "      <td>6.111111</td>\n",
       "      <td>0.0</td>\n",
       "      <td>82.0</td>\n",
       "      <td>10.000</td>\n",
       "      <td>4.8270</td>\n",
       "    </tr>\n",
       "    <tr>\n",
       "      <th>2017-01-01 01:00:00</th>\n",
       "      <td>6.111111</td>\n",
       "      <td>0.0</td>\n",
       "      <td>82.0</td>\n",
       "      <td>9.970</td>\n",
       "      <td>2.4135</td>\n",
       "    </tr>\n",
       "    <tr>\n",
       "      <th>2017-01-01 02:00:00</th>\n",
       "      <td>5.555556</td>\n",
       "      <td>0.0</td>\n",
       "      <td>79.0</td>\n",
       "      <td>10.000</td>\n",
       "      <td>0.0000</td>\n",
       "    </tr>\n",
       "    <tr>\n",
       "      <th>2017-01-01 03:00:00</th>\n",
       "      <td>5.000000</td>\n",
       "      <td>0.0</td>\n",
       "      <td>89.0</td>\n",
       "      <td>6.000</td>\n",
       "      <td>9.6540</td>\n",
       "    </tr>\n",
       "    <tr>\n",
       "      <th>2017-01-01 04:00:00</th>\n",
       "      <td>5.000000</td>\n",
       "      <td>0.0</td>\n",
       "      <td>89.0</td>\n",
       "      <td>5.295</td>\n",
       "      <td>4.8270</td>\n",
       "    </tr>\n",
       "    <tr>\n",
       "      <th>...</th>\n",
       "      <td>...</td>\n",
       "      <td>...</td>\n",
       "      <td>...</td>\n",
       "      <td>...</td>\n",
       "      <td>...</td>\n",
       "    </tr>\n",
       "    <tr>\n",
       "      <th>2020-11-01 19:00:00</th>\n",
       "      <td>6.944444</td>\n",
       "      <td>0.0</td>\n",
       "      <td>37.5</td>\n",
       "      <td>9.970</td>\n",
       "      <td>24.1350</td>\n",
       "    </tr>\n",
       "    <tr>\n",
       "      <th>2020-11-01 20:00:00</th>\n",
       "      <td>5.555556</td>\n",
       "      <td>0.0</td>\n",
       "      <td>41.0</td>\n",
       "      <td>10.000</td>\n",
       "      <td>24.1350</td>\n",
       "    </tr>\n",
       "    <tr>\n",
       "      <th>2020-11-01 21:00:00</th>\n",
       "      <td>5.000000</td>\n",
       "      <td>0.0</td>\n",
       "      <td>43.0</td>\n",
       "      <td>10.000</td>\n",
       "      <td>22.5260</td>\n",
       "    </tr>\n",
       "    <tr>\n",
       "      <th>2020-11-01 22:00:00</th>\n",
       "      <td>4.444444</td>\n",
       "      <td>0.0</td>\n",
       "      <td>44.5</td>\n",
       "      <td>9.970</td>\n",
       "      <td>19.3080</td>\n",
       "    </tr>\n",
       "    <tr>\n",
       "      <th>2020-11-01 23:00:00</th>\n",
       "      <td>3.888889</td>\n",
       "      <td>0.0</td>\n",
       "      <td>45.0</td>\n",
       "      <td>10.000</td>\n",
       "      <td>24.1350</td>\n",
       "    </tr>\n",
       "  </tbody>\n",
       "</table>\n",
       "<p>33624 rows × 5 columns</p>\n",
       "</div>"
      ],
      "text/plain": [
       "                     Temperature  Precipitation  Humidity  Visibility  \\\n",
       "Date                                                                    \n",
       "2017-01-01 00:00:00     6.111111            0.0      82.0      10.000   \n",
       "2017-01-01 01:00:00     6.111111            0.0      82.0       9.970   \n",
       "2017-01-01 02:00:00     5.555556            0.0      79.0      10.000   \n",
       "2017-01-01 03:00:00     5.000000            0.0      89.0       6.000   \n",
       "2017-01-01 04:00:00     5.000000            0.0      89.0       5.295   \n",
       "...                          ...            ...       ...         ...   \n",
       "2020-11-01 19:00:00     6.944444            0.0      37.5       9.970   \n",
       "2020-11-01 20:00:00     5.555556            0.0      41.0      10.000   \n",
       "2020-11-01 21:00:00     5.000000            0.0      43.0      10.000   \n",
       "2020-11-01 22:00:00     4.444444            0.0      44.5       9.970   \n",
       "2020-11-01 23:00:00     3.888889            0.0      45.0      10.000   \n",
       "\n",
       "                     WindSpeed  \n",
       "Date                            \n",
       "2017-01-01 00:00:00     4.8270  \n",
       "2017-01-01 01:00:00     2.4135  \n",
       "2017-01-01 02:00:00     0.0000  \n",
       "2017-01-01 03:00:00     9.6540  \n",
       "2017-01-01 04:00:00     4.8270  \n",
       "...                        ...  \n",
       "2020-11-01 19:00:00    24.1350  \n",
       "2020-11-01 20:00:00    24.1350  \n",
       "2020-11-01 21:00:00    22.5260  \n",
       "2020-11-01 22:00:00    19.3080  \n",
       "2020-11-01 23:00:00    24.1350  \n",
       "\n",
       "[33624 rows x 5 columns]"
      ]
     },
     "execution_count": 37,
     "metadata": {},
     "output_type": "execute_result"
    }
   ],
   "source": [
    "hourly.rename(columns= {'DATE': 'Date'}, inplace= True)\n",
    "hourly.set_index('Date', inplace = True)\n",
    "hourly"
   ]
  },
  {
   "cell_type": "code",
   "execution_count": 38,
   "metadata": {
    "colab": {
     "base_uri": "https://localhost:8080/"
    },
    "executionInfo": {
     "elapsed": 2953,
     "status": "ok",
     "timestamp": 1606915507169,
     "user": {
      "displayName": "Luca Baggi",
      "photoUrl": "https://lh3.googleusercontent.com/a-/AOh14Ghot0T9DM2E8PvGRS-yV6qnboQmIQtSshdYKGgL=s64",
      "userId": "02213171812671959923"
     },
     "user_tz": -60
    },
    "id": "eVRxKwus7uz5",
    "outputId": "fbd52502-8015-49dd-9910-02f798fec189",
    "scrolled": true
   },
   "outputs": [
    {
     "name": "stdout",
     "output_type": "stream",
     "text": [
      "<class 'pandas.core.frame.DataFrame'>\n",
      "DatetimeIndex: 33624 entries, 2017-01-01 00:00:00 to 2020-11-01 23:00:00\n",
      "Data columns (total 5 columns):\n",
      " #   Column         Non-Null Count  Dtype  \n",
      "---  ------         --------------  -----  \n",
      " 0   Temperature    23831 non-null  float64\n",
      " 1   Precipitation  33624 non-null  float64\n",
      " 2   Humidity       33624 non-null  float64\n",
      " 3   Visibility     33624 non-null  float64\n",
      " 4   WindSpeed      33624 non-null  float64\n",
      "dtypes: float64(5)\n",
      "memory usage: 1.5 MB\n"
     ]
    }
   ],
   "source": [
    "hourly.info()"
   ]
  },
  {
   "cell_type": "code",
   "execution_count": 39,
   "metadata": {
    "id": "r4tmX1qD7uz5"
   },
   "outputs": [],
   "source": [
    "hourly.to_csv('../data/hourly-weather.csv')"
   ]
  }
 ],
 "metadata": {
  "colab": {
   "name": "weather-cleaning.ipynb",
   "provenance": []
  },
  "kernelspec": {
   "display_name": "Python 3",
   "language": "python",
   "name": "python3"
  },
  "language_info": {
   "codemirror_mode": {
    "name": "ipython",
    "version": 3
   },
   "file_extension": ".py",
   "mimetype": "text/x-python",
   "name": "python",
   "nbconvert_exporter": "python",
   "pygments_lexer": "ipython3",
   "version": "3.8.5"
  },
  "varInspector": {
   "cols": {
    "lenName": 16,
    "lenType": 16,
    "lenVar": 40
   },
   "kernels_config": {
    "python": {
     "delete_cmd_postfix": "",
     "delete_cmd_prefix": "del ",
     "library": "var_list.py",
     "varRefreshCmd": "print(var_dic_list())"
    },
    "r": {
     "delete_cmd_postfix": ") ",
     "delete_cmd_prefix": "rm(",
     "library": "var_list.r",
     "varRefreshCmd": "cat(var_dic_list()) "
    }
   },
   "types_to_exclude": [
    "module",
    "function",
    "builtin_function_or_method",
    "instance",
    "_Feature"
   ],
   "window_display": false
  }
 },
 "nbformat": 4,
 "nbformat_minor": 1
}
