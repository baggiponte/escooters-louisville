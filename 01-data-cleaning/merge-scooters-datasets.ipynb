{
 "cells": [
  {
   "cell_type": "markdown",
   "metadata": {
    "heading_collapsed": true,
    "id": "yu34taj5BQ6y"
   },
   "source": [
    "# Libraries & Merge Datasets"
   ]
  },
  {
   "cell_type": "markdown",
   "metadata": {
    "heading_collapsed": true,
    "hidden": true,
    "id": "jaeFjeJzBcUN"
   },
   "source": [
    "## Libraries"
   ]
  },
  {
   "cell_type": "code",
   "execution_count": 1,
   "metadata": {
    "executionInfo": {
     "elapsed": 876,
     "status": "ok",
     "timestamp": 1606935219692,
     "user": {
      "displayName": "Maria Grazia Cabitza",
      "photoUrl": "https://lh3.googleusercontent.com/a-/AOh14GgEpKcWzD3jm0s5VHob6SFfhGsrjzMCROFZWrJB6A=s64",
      "userId": "08220251560334052956"
     },
     "user_tz": -60
    },
    "hidden": true,
    "id": "EKjOOMNL_aVb"
   },
   "outputs": [],
   "source": [
    "import pandas as pd"
   ]
  },
  {
   "cell_type": "markdown",
   "metadata": {
    "heading_collapsed": true,
    "hidden": true,
    "id": "alqNXxJwBg8w"
   },
   "source": [
    "## Load Dataset"
   ]
  },
  {
   "cell_type": "code",
   "execution_count": 2,
   "metadata": {
    "colab": {
     "base_uri": "https://localhost:8080/",
     "height": 382
    },
    "executionInfo": {
     "elapsed": 917,
     "status": "error",
     "timestamp": 1606935231126,
     "user": {
      "displayName": "Maria Grazia Cabitza",
      "photoUrl": "https://lh3.googleusercontent.com/a-/AOh14GgEpKcWzD3jm0s5VHob6SFfhGsrjzMCROFZWrJB6A=s64",
      "userId": "08220251560334052956"
     },
     "user_tz": -60
    },
    "hidden": true,
    "id": "ggA8IPdD_aVd",
    "outputId": "8d2b2227-fdd7-45da-deaf-7632a65fa027"
   },
   "outputs": [],
   "source": [
    "precovid = pd.read_csv('../rawdata/escooters-precovid.csv', index_col = 'TripID')"
   ]
  },
  {
   "cell_type": "code",
   "execution_count": 3,
   "metadata": {
    "executionInfo": {
     "elapsed": 181629,
     "status": "aborted",
     "timestamp": 1606935115349,
     "user": {
      "displayName": "Maria Grazia Cabitza",
      "photoUrl": "https://lh3.googleusercontent.com/a-/AOh14GgEpKcWzD3jm0s5VHob6SFfhGsrjzMCROFZWrJB6A=s64",
      "userId": "08220251560334052956"
     },
     "user_tz": -60
    },
    "hidden": true,
    "id": "rkN0nl0j_aVe"
   },
   "outputs": [
    {
     "data": {
      "text/plain": [
       "StartDate         0\n",
       "StartTime         0\n",
       "EndDate           4\n",
       "EndTime           4\n",
       "TripDuration      0\n",
       "TripDistance      0\n",
       "StartLatitude     0\n",
       "StartLongitude    0\n",
       "EndLatitude       0\n",
       "EndLongitude      0\n",
       "DayOfWeek         0\n",
       "HourNum           0\n",
       "dtype: int64"
      ]
     },
     "execution_count": 3,
     "metadata": {},
     "output_type": "execute_result"
    }
   ],
   "source": [
    "precovid.isnull().sum()"
   ]
  },
  {
   "cell_type": "code",
   "execution_count": 4,
   "metadata": {
    "executionInfo": {
     "elapsed": 181631,
     "status": "aborted",
     "timestamp": 1606935115356,
     "user": {
      "displayName": "Maria Grazia Cabitza",
      "photoUrl": "https://lh3.googleusercontent.com/a-/AOh14GgEpKcWzD3jm0s5VHob6SFfhGsrjzMCROFZWrJB6A=s64",
      "userId": "08220251560334052956"
     },
     "user_tz": -60
    },
    "hidden": true,
    "id": "n588CSnQ_aVq"
   },
   "outputs": [],
   "source": [
    "postcovid = pd.read_csv('../rawdata/escooters-postcovid.csv', index_col = 'TripID')"
   ]
  },
  {
   "cell_type": "code",
   "execution_count": 5,
   "metadata": {
    "executionInfo": {
     "elapsed": 181624,
     "status": "aborted",
     "timestamp": 1606935115361,
     "user": {
      "displayName": "Maria Grazia Cabitza",
      "photoUrl": "https://lh3.googleusercontent.com/a-/AOh14GgEpKcWzD3jm0s5VHob6SFfhGsrjzMCROFZWrJB6A=s64",
      "userId": "08220251560334052956"
     },
     "user_tz": -60
    },
    "hidden": true,
    "id": "-jYqYEhQ_aVr"
   },
   "outputs": [
    {
     "data": {
      "text/plain": [
       "StartDate         0\n",
       "StartTime         0\n",
       "EndDate           0\n",
       "EndTime           0\n",
       "TripDuration      0\n",
       "TripDistance      0\n",
       "StartLatitude     0\n",
       "StartLongitude    0\n",
       "EndLatitude       0\n",
       "EndLongitude      0\n",
       "DayOfWeek         0\n",
       "HourNum           0\n",
       "dtype: int64"
      ]
     },
     "execution_count": 5,
     "metadata": {},
     "output_type": "execute_result"
    }
   ],
   "source": [
    "postcovid.isnull().sum()"
   ]
  },
  {
   "cell_type": "markdown",
   "metadata": {
    "heading_collapsed": true,
    "hidden": true,
    "id": "Ts3UvEsXBnqP"
   },
   "source": [
    "## Merge Dataset and drop NaN"
   ]
  },
  {
   "cell_type": "code",
   "execution_count": 6,
   "metadata": {
    "executionInfo": {
     "elapsed": 181623,
     "status": "aborted",
     "timestamp": 1606935115366,
     "user": {
      "displayName": "Maria Grazia Cabitza",
      "photoUrl": "https://lh3.googleusercontent.com/a-/AOh14GgEpKcWzD3jm0s5VHob6SFfhGsrjzMCROFZWrJB6A=s64",
      "userId": "08220251560334052956"
     },
     "user_tz": -60
    },
    "hidden": true,
    "id": "_ehtHvqA_aVr"
   },
   "outputs": [],
   "source": [
    "df = precovid.append(postcovid)"
   ]
  },
  {
   "cell_type": "code",
   "execution_count": 7,
   "metadata": {
    "executionInfo": {
     "elapsed": 181615,
     "status": "aborted",
     "timestamp": 1606935115369,
     "user": {
      "displayName": "Maria Grazia Cabitza",
      "photoUrl": "https://lh3.googleusercontent.com/a-/AOh14GgEpKcWzD3jm0s5VHob6SFfhGsrjzMCROFZWrJB6A=s64",
      "userId": "08220251560334052956"
     },
     "user_tz": -60
    },
    "hidden": true,
    "id": "W3Ey-LWERucG"
   },
   "outputs": [
    {
     "data": {
      "text/plain": [
       "StartDate         0\n",
       "StartTime         0\n",
       "EndDate           4\n",
       "EndTime           4\n",
       "TripDuration      0\n",
       "TripDistance      0\n",
       "StartLatitude     0\n",
       "StartLongitude    0\n",
       "EndLatitude       0\n",
       "EndLongitude      0\n",
       "DayOfWeek         0\n",
       "HourNum           0\n",
       "dtype: int64"
      ]
     },
     "execution_count": 7,
     "metadata": {},
     "output_type": "execute_result"
    }
   ],
   "source": [
    "df.isnull().sum()"
   ]
  },
  {
   "cell_type": "code",
   "execution_count": 8,
   "metadata": {
    "executionInfo": {
     "elapsed": 181612,
     "status": "aborted",
     "timestamp": 1606935115373,
     "user": {
      "displayName": "Maria Grazia Cabitza",
      "photoUrl": "https://lh3.googleusercontent.com/a-/AOh14GgEpKcWzD3jm0s5VHob6SFfhGsrjzMCROFZWrJB6A=s64",
      "userId": "08220251560334052956"
     },
     "user_tz": -60
    },
    "hidden": true,
    "id": "aFyLERITC1up"
   },
   "outputs": [],
   "source": [
    "df.dropna(inplace = True)"
   ]
  },
  {
   "cell_type": "code",
   "execution_count": 9,
   "metadata": {
    "hidden": true
   },
   "outputs": [
    {
     "data": {
      "text/plain": [
       "StartDate          object\n",
       "StartTime          object\n",
       "EndDate            object\n",
       "EndTime            object\n",
       "TripDuration      float64\n",
       "TripDistance      float64\n",
       "StartLatitude     float64\n",
       "StartLongitude    float64\n",
       "EndLatitude       float64\n",
       "EndLongitude      float64\n",
       "DayOfWeek           int64\n",
       "HourNum             int64\n",
       "dtype: object"
      ]
     },
     "execution_count": 9,
     "metadata": {},
     "output_type": "execute_result"
    }
   ],
   "source": [
    "df.dtypes"
   ]
  },
  {
   "cell_type": "markdown",
   "metadata": {
    "heading_collapsed": true,
    "id": "l1p7oaKwKRh2"
   },
   "source": [
    "# Replace Invalid Values"
   ]
  },
  {
   "cell_type": "markdown",
   "metadata": {
    "hidden": true,
    "id": "kOti9nzXK33h"
   },
   "source": [
    "We want to fix those lines where the hour is indicated as 24 instead of 00, and fix the day of the week accordingly."
   ]
  },
  {
   "cell_type": "markdown",
   "metadata": {
    "hidden": true,
    "id": "FxhRstX0KVOx"
   },
   "source": [
    "## HourNum"
   ]
  },
  {
   "cell_type": "code",
   "execution_count": 10,
   "metadata": {
    "colab": {
     "base_uri": "https://localhost:8080/"
    },
    "executionInfo": {
     "elapsed": 3296,
     "status": "ok",
     "timestamp": 1606912984675,
     "user": {
      "displayName": "Luca Baggi",
      "photoUrl": "https://lh3.googleusercontent.com/a-/AOh14Ghot0T9DM2E8PvGRS-yV6qnboQmIQtSshdYKGgL=s64",
      "userId": "02213171812671959923"
     },
     "user_tz": -60
    },
    "hidden": true,
    "id": "AY5jAkqoJfYl",
    "outputId": "83559379-96f7-45e6-d018-186c1cc36804"
   },
   "outputs": [
    {
     "data": {
      "text/plain": [
       "TripID\n",
       "0041c164-abfd-a85b-ac9d-60bafc43    0\n",
       "0041d45b-b62c-d892-a67c-ecbfa07e    0\n",
       "006b741a-274b-7975-116b-6a9f988a    0\n",
       "00745ffa-ee7d-8527-2ebf-1eb18441    0\n",
       "007ba6d2-48e4-366d-8675-2bf0f834    0\n",
       "                                   ..\n",
       "ff5c22f5-5fe3-7b45-2a8d-40684a2c    0\n",
       "ff5d15d9-d2b6-990a-079c-4e72af90    0\n",
       "ffcdc2f5-95d0-55eb-d301-ce3b82e7    0\n",
       "ffe4cade-ff8b-fe8f-ef6a-39a21d05    0\n",
       "ffee9c70-c1b6-1ed9-2779-7e14795f    0\n",
       "Name: HourNum, Length: 2440, dtype: int64"
      ]
     },
     "execution_count": 10,
     "metadata": {},
     "output_type": "execute_result"
    }
   ],
   "source": [
    "df['HourNum'].replace(24, 0, inplace = True)\n",
    "df['HourNum'].loc[df['HourNum'] == 0]"
   ]
  },
  {
   "cell_type": "markdown",
   "metadata": {
    "hidden": true,
    "id": "zJNj1cu-KY4G"
   },
   "source": [
    "## StartTime\n"
   ]
  },
  {
   "cell_type": "code",
   "execution_count": 11,
   "metadata": {
    "hidden": true,
    "id": "PUuvYepe_aVr"
   },
   "outputs": [],
   "source": [
    "invalid = df.loc[ df['StartTime'].str.contains('24:') ].index"
   ]
  },
  {
   "cell_type": "code",
   "execution_count": 12,
   "metadata": {
    "colab": {
     "base_uri": "https://localhost:8080/"
    },
    "executionInfo": {
     "elapsed": 3556,
     "status": "ok",
     "timestamp": 1606912984951,
     "user": {
      "displayName": "Luca Baggi",
      "photoUrl": "https://lh3.googleusercontent.com/a-/AOh14Ghot0T9DM2E8PvGRS-yV6qnboQmIQtSshdYKGgL=s64",
      "userId": "02213171812671959923"
     },
     "user_tz": -60
    },
    "hidden": true,
    "id": "Mr8FTTXoE9Uy",
    "outputId": "24a6f6e9-69f7-4ffa-a774-3c78574c85e2"
   },
   "outputs": [
    {
     "name": "stderr",
     "output_type": "stream",
     "text": [
      "/Users/luca/.pyenv/versions/miniconda3-latest/envs/mobility/lib/python3.8/site-packages/pandas/core/indexing.py:670: SettingWithCopyWarning: \n",
      "A value is trying to be set on a copy of a slice from a DataFrame\n",
      "\n",
      "See the caveats in the documentation: https://pandas.pydata.org/pandas-docs/stable/user_guide/indexing.html#returning-a-view-versus-a-copy\n",
      "  iloc._setitem_with_indexer(indexer, value)\n"
     ]
    }
   ],
   "source": [
    "df['StartTime'].loc[invalid] = df['StartTime'].loc[invalid].str.replace('24:', '00:')"
   ]
  },
  {
   "cell_type": "code",
   "execution_count": 13,
   "metadata": {
    "hidden": true,
    "id": "MFaUgDudVbr5"
   },
   "outputs": [],
   "source": [
    "df['Start'] = df['StartDate'] + ' ' + df['StartTime']"
   ]
  },
  {
   "cell_type": "code",
   "execution_count": 14,
   "metadata": {
    "hidden": true,
    "id": "huJdRqRa_aVw"
   },
   "outputs": [],
   "source": [
    "df['Start'] = pd.to_datetime(df['Start'])"
   ]
  },
  {
   "cell_type": "code",
   "execution_count": 15,
   "metadata": {
    "colab": {
     "base_uri": "https://localhost:8080/"
    },
    "executionInfo": {
     "elapsed": 4063,
     "status": "ok",
     "timestamp": 1606912985574,
     "user": {
      "displayName": "Luca Baggi",
      "photoUrl": "https://lh3.googleusercontent.com/a-/AOh14Ghot0T9DM2E8PvGRS-yV6qnboQmIQtSshdYKGgL=s64",
      "userId": "02213171812671959923"
     },
     "user_tz": -60
    },
    "hidden": true,
    "id": "79o2klGHM2DY",
    "outputId": "d9f5747c-80ae-4aa4-e129-21055fc7ace8"
   },
   "outputs": [
    {
     "data": {
      "text/plain": [
       "TripID\n",
       "007ba6d2-48e4-366d-8675-2bf0f834   2019-06-02\n",
       "01688a3a-ecb1-742e-1ddf-ed31f3f8   2019-07-13\n",
       "018ff9a4-ef24-bda3-ac05-820157ea   2019-07-27\n",
       "01c27413-ad2e-7fe2-b354-b7e4a9f1   2019-07-27\n",
       "01db3512-b974-aa8b-887a-2d4ae44d   2018-12-21\n",
       "                                      ...    \n",
       "fe3cc91c-d393-a343-92a2-288903f1   2019-09-22\n",
       "fe3d6651-d91d-f94c-9de5-8dd2ff3f   2019-06-20\n",
       "fe8cb696-048e-03f3-16f5-1d62826c   2019-07-29\n",
       "ffcdc2f5-95d0-55eb-d301-ce3b82e7   2019-08-06\n",
       "ffee9c70-c1b6-1ed9-2779-7e14795f   2019-04-30\n",
       "Name: Start, Length: 799, dtype: datetime64[ns]"
      ]
     },
     "execution_count": 15,
     "metadata": {},
     "output_type": "execute_result"
    }
   ],
   "source": [
    "df['Start'].loc[invalid] = df['Start'].loc[invalid] + pd.Timedelta(days=1)\n",
    "df['Start'].loc[invalid]"
   ]
  },
  {
   "cell_type": "markdown",
   "metadata": {
    "hidden": true,
    "id": "O2_yDvJrPJyQ"
   },
   "source": [
    "## EndTime"
   ]
  },
  {
   "cell_type": "code",
   "execution_count": 16,
   "metadata": {
    "colab": {
     "base_uri": "https://localhost:8080/"
    },
    "executionInfo": {
     "elapsed": 4057,
     "status": "ok",
     "timestamp": 1606912985576,
     "user": {
      "displayName": "Luca Baggi",
      "photoUrl": "https://lh3.googleusercontent.com/a-/AOh14Ghot0T9DM2E8PvGRS-yV6qnboQmIQtSshdYKGgL=s64",
      "userId": "02213171812671959923"
     },
     "user_tz": -60
    },
    "hidden": true,
    "id": "x7e8-IFRQIAA",
    "outputId": "34b86de8-e613-4610-facd-5b18c8d2758e"
   },
   "outputs": [
    {
     "data": {
      "text/plain": [
       "Index(['000e3f77-912c-84f8-b8b2-3c62c74c', '005a479a-ed28-98cb-5661-8018fd77',\n",
       "       '007ba6d2-48e4-366d-8675-2bf0f834', '008e4642-04c9-d5d2-467c-403248e0',\n",
       "       '0139f0e8-2e7e-cbee-bdae-bf47fc1c', '016fb00d-c238-68bd-4f0c-d1f7cfd7',\n",
       "       '018ff9a4-ef24-bda3-ac05-820157ea', '0287129b-b488-977e-c97b-8ec3a129',\n",
       "       '029b9b3a-3c16-95e5-b30a-953ae9bd', '02fa0d59-2633-020f-eae8-4999a5a6',\n",
       "       ...\n",
       "       'fa803b01-f24f-415d-e2a0-4355bccc', 'faad9c0c-65fb-ad2a-f532-8589944c',\n",
       "       'fb7b0217-6eb6-c655-87ee-ce0806de', 'fbee6f39-915e-09b1-4a7b-c6bf08ab',\n",
       "       'fda32fe6-7e12-0ea1-d52e-78923779', 'fdbfdec4-40aa-64f3-10cb-74413b03',\n",
       "       'fddd0477-47cc-5435-774f-d40dcc56', 'fdf5ef2f-7f29-c625-7c52-e003f083',\n",
       "       'fe3d6651-d91d-f94c-9de5-8dd2ff3f', 'ff9dfdbe-cb13-e3cd-53cb-bf3fa809'],\n",
       "      dtype='object', name='TripID', length=884)"
      ]
     },
     "execution_count": 16,
     "metadata": {},
     "output_type": "execute_result"
    }
   ],
   "source": [
    "other = df.loc[ df['EndTime'].str.contains('24:') ].index\n",
    "other"
   ]
  },
  {
   "cell_type": "code",
   "execution_count": 17,
   "metadata": {
    "colab": {
     "base_uri": "https://localhost:8080/"
    },
    "executionInfo": {
     "elapsed": 4050,
     "status": "ok",
     "timestamp": 1606912985577,
     "user": {
      "displayName": "Luca Baggi",
      "photoUrl": "https://lh3.googleusercontent.com/a-/AOh14Ghot0T9DM2E8PvGRS-yV6qnboQmIQtSshdYKGgL=s64",
      "userId": "02213171812671959923"
     },
     "user_tz": -60
    },
    "hidden": true,
    "id": "Go_5USASPfYZ",
    "outputId": "61019fe6-75c4-4e69-d8a1-4b8e67bea678"
   },
   "outputs": [],
   "source": [
    "df['EndTime'].loc[other] = df['EndTime'].loc[other].str.replace('24:', '00:')"
   ]
  },
  {
   "cell_type": "code",
   "execution_count": 18,
   "metadata": {
    "hidden": true,
    "id": "wgjrvFyjSMFW"
   },
   "outputs": [],
   "source": [
    "df['End'] = df['EndDate'] + ' ' + df['EndTime']\n",
    "df['End'] = pd.to_datetime(df['End'])"
   ]
  },
  {
   "cell_type": "code",
   "execution_count": 19,
   "metadata": {
    "colab": {
     "base_uri": "https://localhost:8080/"
    },
    "executionInfo": {
     "elapsed": 4291,
     "status": "ok",
     "timestamp": 1606912985855,
     "user": {
      "displayName": "Luca Baggi",
      "photoUrl": "https://lh3.googleusercontent.com/a-/AOh14Ghot0T9DM2E8PvGRS-yV6qnboQmIQtSshdYKGgL=s64",
      "userId": "02213171812671959923"
     },
     "user_tz": -60
    },
    "hidden": true,
    "id": "cNgaTMJWSat2",
    "outputId": "73acc8d7-b2be-4623-a748-1faa7bba7457"
   },
   "outputs": [
    {
     "data": {
      "text/plain": [
       "TripID\n",
       "000e3f77-912c-84f8-b8b2-3c62c74c   2019-06-14\n",
       "005a479a-ed28-98cb-5661-8018fd77   2019-07-13\n",
       "007ba6d2-48e4-366d-8675-2bf0f834   2019-06-01\n",
       "008e4642-04c9-d5d2-467c-403248e0   2019-05-13\n",
       "0139f0e8-2e7e-cbee-bdae-bf47fc1c   2019-07-08\n",
       "                                      ...    \n",
       "fdbfdec4-40aa-64f3-10cb-74413b03   2019-08-17\n",
       "fddd0477-47cc-5435-774f-d40dcc56   2019-05-02\n",
       "fdf5ef2f-7f29-c625-7c52-e003f083   2019-09-21\n",
       "fe3d6651-d91d-f94c-9de5-8dd2ff3f   2019-06-19\n",
       "ff9dfdbe-cb13-e3cd-53cb-bf3fa809   2019-04-27\n",
       "Name: End, Length: 884, dtype: datetime64[ns]"
      ]
     },
     "execution_count": 19,
     "metadata": {},
     "output_type": "execute_result"
    }
   ],
   "source": [
    "df['End'].loc[other]"
   ]
  },
  {
   "cell_type": "code",
   "execution_count": 20,
   "metadata": {
    "colab": {
     "base_uri": "https://localhost:8080/"
    },
    "executionInfo": {
     "elapsed": 4279,
     "status": "ok",
     "timestamp": 1606912985856,
     "user": {
      "displayName": "Luca Baggi",
      "photoUrl": "https://lh3.googleusercontent.com/a-/AOh14Ghot0T9DM2E8PvGRS-yV6qnboQmIQtSshdYKGgL=s64",
      "userId": "02213171812671959923"
     },
     "user_tz": -60
    },
    "hidden": true,
    "id": "VN1ibu-jSjxs",
    "outputId": "3237814e-349a-4e43-dbc4-766a89971861"
   },
   "outputs": [
    {
     "data": {
      "text/plain": [
       "TripID\n",
       "000e3f77-912c-84f8-b8b2-3c62c74c   2019-06-15\n",
       "005a479a-ed28-98cb-5661-8018fd77   2019-07-14\n",
       "007ba6d2-48e4-366d-8675-2bf0f834   2019-06-02\n",
       "008e4642-04c9-d5d2-467c-403248e0   2019-05-14\n",
       "0139f0e8-2e7e-cbee-bdae-bf47fc1c   2019-07-09\n",
       "                                      ...    \n",
       "fdbfdec4-40aa-64f3-10cb-74413b03   2019-08-18\n",
       "fddd0477-47cc-5435-774f-d40dcc56   2019-05-03\n",
       "fdf5ef2f-7f29-c625-7c52-e003f083   2019-09-22\n",
       "fe3d6651-d91d-f94c-9de5-8dd2ff3f   2019-06-20\n",
       "ff9dfdbe-cb13-e3cd-53cb-bf3fa809   2019-04-28\n",
       "Name: End, Length: 884, dtype: datetime64[ns]"
      ]
     },
     "execution_count": 20,
     "metadata": {},
     "output_type": "execute_result"
    }
   ],
   "source": [
    "df['End'].loc[other] = df['End'].loc[other] + pd.Timedelta(days=1)\n",
    "df['End'].loc[other]"
   ]
  },
  {
   "cell_type": "markdown",
   "metadata": {
    "heading_collapsed": true,
    "id": "SD7RbKuKSvXV"
   },
   "source": [
    "# Final Dataset (no outliers removed)"
   ]
  },
  {
   "cell_type": "markdown",
   "metadata": {
    "hidden": true,
    "id": "Vp4NFu2AW74E"
   },
   "source": [
    "## Fix col order"
   ]
  },
  {
   "cell_type": "code",
   "execution_count": 21,
   "metadata": {
    "colab": {
     "base_uri": "https://localhost:8080/"
    },
    "executionInfo": {
     "elapsed": 4678,
     "status": "ok",
     "timestamp": 1606912986293,
     "user": {
      "displayName": "Luca Baggi",
      "photoUrl": "https://lh3.googleusercontent.com/a-/AOh14Ghot0T9DM2E8PvGRS-yV6qnboQmIQtSshdYKGgL=s64",
      "userId": "02213171812671959923"
     },
     "user_tz": -60
    },
    "hidden": true,
    "id": "1aT3G1aZS08N",
    "outputId": "602e0280-c25f-469c-9c37-e13b6b5c6511"
   },
   "outputs": [
    {
     "name": "stdout",
     "output_type": "stream",
     "text": [
      "<class 'pandas.core.frame.DataFrame'>\n",
      "Index: 538951 entries, 0000045c-2677-3a7d-4b73-cad99a57 to 1a7e9820-615e-5918-9ae6-ec5256332b20\n",
      "Data columns (total 14 columns):\n",
      " #   Column          Non-Null Count   Dtype         \n",
      "---  ------          --------------   -----         \n",
      " 0   StartDate       538951 non-null  object        \n",
      " 1   StartTime       538951 non-null  object        \n",
      " 2   EndDate         538951 non-null  object        \n",
      " 3   EndTime         538951 non-null  object        \n",
      " 4   TripDuration    538951 non-null  float64       \n",
      " 5   TripDistance    538951 non-null  float64       \n",
      " 6   StartLatitude   538951 non-null  float64       \n",
      " 7   StartLongitude  538951 non-null  float64       \n",
      " 8   EndLatitude     538951 non-null  float64       \n",
      " 9   EndLongitude    538951 non-null  float64       \n",
      " 10  DayOfWeek       538951 non-null  int64         \n",
      " 11  HourNum         538951 non-null  int64         \n",
      " 12  Start           538951 non-null  datetime64[ns]\n",
      " 13  End             538951 non-null  datetime64[ns]\n",
      "dtypes: datetime64[ns](2), float64(6), int64(2), object(4)\n",
      "memory usage: 81.7+ MB\n"
     ]
    }
   ],
   "source": [
    "df.info()"
   ]
  },
  {
   "cell_type": "code",
   "execution_count": 22,
   "metadata": {
    "hidden": true,
    "id": "QLh1T8CFTSnt"
   },
   "outputs": [],
   "source": [
    "df.drop(axis = 1, columns = ['StartDate', 'StartTime', 'EndDate', 'EndTime'], inplace = True)"
   ]
  },
  {
   "cell_type": "code",
   "execution_count": 23,
   "metadata": {
    "colab": {
     "base_uri": "https://localhost:8080/"
    },
    "executionInfo": {
     "elapsed": 4638,
     "status": "ok",
     "timestamp": 1606912986295,
     "user": {
      "displayName": "Luca Baggi",
      "photoUrl": "https://lh3.googleusercontent.com/a-/AOh14Ghot0T9DM2E8PvGRS-yV6qnboQmIQtSshdYKGgL=s64",
      "userId": "02213171812671959923"
     },
     "user_tz": -60
    },
    "hidden": true,
    "id": "5K_xISysVxLk",
    "outputId": "582e9668-3661-4f9c-b756-15d04767be07"
   },
   "outputs": [
    {
     "data": {
      "text/plain": [
       "['TripDuration',\n",
       " 'TripDistance',\n",
       " 'StartLatitude',\n",
       " 'StartLongitude',\n",
       " 'EndLatitude',\n",
       " 'EndLongitude',\n",
       " 'DayOfWeek',\n",
       " 'HourNum']"
      ]
     },
     "execution_count": 23,
     "metadata": {},
     "output_type": "execute_result"
    }
   ],
   "source": [
    "oldcol = [ col for col in df.columns if col not in ['Start', 'End'] ]\n",
    "oldcol"
   ]
  },
  {
   "cell_type": "code",
   "execution_count": 24,
   "metadata": {
    "colab": {
     "base_uri": "https://localhost:8080/"
    },
    "executionInfo": {
     "elapsed": 4629,
     "status": "ok",
     "timestamp": 1606912986296,
     "user": {
      "displayName": "Luca Baggi",
      "photoUrl": "https://lh3.googleusercontent.com/a-/AOh14Ghot0T9DM2E8PvGRS-yV6qnboQmIQtSshdYKGgL=s64",
      "userId": "02213171812671959923"
     },
     "user_tz": -60
    },
    "hidden": true,
    "id": "UalRu01GWZyB",
    "outputId": "351840ae-6fa7-4b4f-85aa-25e0c5c0fb4e"
   },
   "outputs": [
    {
     "data": {
      "text/plain": [
       "['Start',\n",
       " 'End',\n",
       " 'TripDuration',\n",
       " 'TripDistance',\n",
       " 'StartLatitude',\n",
       " 'StartLongitude',\n",
       " 'EndLatitude',\n",
       " 'EndLongitude',\n",
       " 'DayOfWeek',\n",
       " 'HourNum']"
      ]
     },
     "execution_count": 24,
     "metadata": {},
     "output_type": "execute_result"
    }
   ],
   "source": [
    "newcol = ['Start', 'End']\n",
    "\n",
    "for col in oldcol:\n",
    "    newcol.append(col)\n",
    "\n",
    "newcol"
   ]
  },
  {
   "cell_type": "code",
   "execution_count": 25,
   "metadata": {
    "colab": {
     "base_uri": "https://localhost:8080/"
    },
    "executionInfo": {
     "elapsed": 4613,
     "status": "ok",
     "timestamp": 1606912986297,
     "user": {
      "displayName": "Luca Baggi",
      "photoUrl": "https://lh3.googleusercontent.com/a-/AOh14Ghot0T9DM2E8PvGRS-yV6qnboQmIQtSshdYKGgL=s64",
      "userId": "02213171812671959923"
     },
     "user_tz": -60
    },
    "hidden": true,
    "id": "IEbEhmyTWwbr",
    "outputId": "2073fb4f-ac45-4dcd-ed02-6613065351e7"
   },
   "outputs": [
    {
     "data": {
      "text/html": [
       "<div>\n",
       "<style scoped>\n",
       "    .dataframe tbody tr th:only-of-type {\n",
       "        vertical-align: middle;\n",
       "    }\n",
       "\n",
       "    .dataframe tbody tr th {\n",
       "        vertical-align: top;\n",
       "    }\n",
       "\n",
       "    .dataframe thead th {\n",
       "        text-align: right;\n",
       "    }\n",
       "</style>\n",
       "<table border=\"1\" class=\"dataframe\">\n",
       "  <thead>\n",
       "    <tr style=\"text-align: right;\">\n",
       "      <th></th>\n",
       "      <th>Start</th>\n",
       "      <th>End</th>\n",
       "      <th>TripDuration</th>\n",
       "      <th>TripDistance</th>\n",
       "      <th>StartLatitude</th>\n",
       "      <th>StartLongitude</th>\n",
       "      <th>EndLatitude</th>\n",
       "      <th>EndLongitude</th>\n",
       "      <th>DayOfWeek</th>\n",
       "      <th>HourNum</th>\n",
       "    </tr>\n",
       "    <tr>\n",
       "      <th>TripID</th>\n",
       "      <th></th>\n",
       "      <th></th>\n",
       "      <th></th>\n",
       "      <th></th>\n",
       "      <th></th>\n",
       "      <th></th>\n",
       "      <th></th>\n",
       "      <th></th>\n",
       "      <th></th>\n",
       "      <th></th>\n",
       "    </tr>\n",
       "  </thead>\n",
       "  <tbody>\n",
       "    <tr>\n",
       "      <th>0000045c-2677-3a7d-4b73-cad99a57</th>\n",
       "      <td>2019-06-26 19:30:00</td>\n",
       "      <td>2019-06-26 19:30:00</td>\n",
       "      <td>3.0</td>\n",
       "      <td>0.000</td>\n",
       "      <td>38.253</td>\n",
       "      <td>-85.756</td>\n",
       "      <td>38.253</td>\n",
       "      <td>-85.755</td>\n",
       "      <td>4</td>\n",
       "      <td>19</td>\n",
       "    </tr>\n",
       "    <tr>\n",
       "      <th>0000487b-92e6-50d6-7569-42ed3818</th>\n",
       "      <td>2019-09-22 14:30:00</td>\n",
       "      <td>2019-09-22 14:30:00</td>\n",
       "      <td>5.0</td>\n",
       "      <td>0.000</td>\n",
       "      <td>38.203</td>\n",
       "      <td>-85.752</td>\n",
       "      <td>38.204</td>\n",
       "      <td>-85.751</td>\n",
       "      <td>1</td>\n",
       "      <td>14</td>\n",
       "    </tr>\n",
       "    <tr>\n",
       "      <th>00006088-2579-e0d0-6a30-a15bb878</th>\n",
       "      <td>2019-08-21 17:30:00</td>\n",
       "      <td>2019-08-21 17:30:00</td>\n",
       "      <td>6.0</td>\n",
       "      <td>0.330</td>\n",
       "      <td>38.259</td>\n",
       "      <td>-85.733</td>\n",
       "      <td>38.265</td>\n",
       "      <td>-85.739</td>\n",
       "      <td>4</td>\n",
       "      <td>17</td>\n",
       "    </tr>\n",
       "    <tr>\n",
       "      <th>00008c1a-899b-8596-970f-9f6bf495</th>\n",
       "      <td>2019-07-03 11:00:00</td>\n",
       "      <td>2019-07-03 11:15:00</td>\n",
       "      <td>6.0</td>\n",
       "      <td>0.640</td>\n",
       "      <td>38.217</td>\n",
       "      <td>-85.757</td>\n",
       "      <td>38.221</td>\n",
       "      <td>-85.763</td>\n",
       "      <td>4</td>\n",
       "      <td>11</td>\n",
       "    </tr>\n",
       "    <tr>\n",
       "      <th>00009301-3225-2aea-a84a-165a480a</th>\n",
       "      <td>2019-11-22 10:45:00</td>\n",
       "      <td>2019-11-22 11:00:00</td>\n",
       "      <td>7.0</td>\n",
       "      <td>0.599</td>\n",
       "      <td>38.215</td>\n",
       "      <td>-85.759</td>\n",
       "      <td>38.222</td>\n",
       "      <td>-85.764</td>\n",
       "      <td>6</td>\n",
       "      <td>10</td>\n",
       "    </tr>\n",
       "    <tr>\n",
       "      <th>...</th>\n",
       "      <td>...</td>\n",
       "      <td>...</td>\n",
       "      <td>...</td>\n",
       "      <td>...</td>\n",
       "      <td>...</td>\n",
       "      <td>...</td>\n",
       "      <td>...</td>\n",
       "      <td>...</td>\n",
       "      <td>...</td>\n",
       "      <td>...</td>\n",
       "    </tr>\n",
       "    <tr>\n",
       "      <th>b2762b7e-bf5b-5f76-9d8d-84cb7665c240</th>\n",
       "      <td>2020-07-08 07:15:00</td>\n",
       "      <td>2020-07-08 07:30:00</td>\n",
       "      <td>11.0</td>\n",
       "      <td>0.002</td>\n",
       "      <td>38.224</td>\n",
       "      <td>-85.760</td>\n",
       "      <td>38.224</td>\n",
       "      <td>-85.760</td>\n",
       "      <td>4</td>\n",
       "      <td>7</td>\n",
       "    </tr>\n",
       "    <tr>\n",
       "      <th>3a812dca-b083-5e88-a59c-fdf19f14f769</th>\n",
       "      <td>2020-07-08 08:00:00</td>\n",
       "      <td>2020-07-08 09:30:00</td>\n",
       "      <td>84.0</td>\n",
       "      <td>0.339</td>\n",
       "      <td>38.263</td>\n",
       "      <td>-85.731</td>\n",
       "      <td>38.261</td>\n",
       "      <td>-85.737</td>\n",
       "      <td>4</td>\n",
       "      <td>8</td>\n",
       "    </tr>\n",
       "    <tr>\n",
       "      <th>ac526223-0238-50f1-8591-5965e7114059</th>\n",
       "      <td>2020-07-08 08:00:00</td>\n",
       "      <td>2020-07-08 08:30:00</td>\n",
       "      <td>33.0</td>\n",
       "      <td>2.658</td>\n",
       "      <td>38.234</td>\n",
       "      <td>-85.763</td>\n",
       "      <td>38.234</td>\n",
       "      <td>-85.742</td>\n",
       "      <td>4</td>\n",
       "      <td>7</td>\n",
       "    </tr>\n",
       "    <tr>\n",
       "      <th>e0c07dd2-3257-5138-82ae-d520c9ef8e1f</th>\n",
       "      <td>2020-07-08 08:15:00</td>\n",
       "      <td>2020-07-08 08:30:00</td>\n",
       "      <td>7.0</td>\n",
       "      <td>1.117</td>\n",
       "      <td>38.221</td>\n",
       "      <td>-85.763</td>\n",
       "      <td>38.213</td>\n",
       "      <td>-85.755</td>\n",
       "      <td>4</td>\n",
       "      <td>8</td>\n",
       "    </tr>\n",
       "    <tr>\n",
       "      <th>1a7e9820-615e-5918-9ae6-ec5256332b20</th>\n",
       "      <td>2020-07-08 08:30:00</td>\n",
       "      <td>2020-07-08 08:30:00</td>\n",
       "      <td>9.0</td>\n",
       "      <td>1.568</td>\n",
       "      <td>38.208</td>\n",
       "      <td>-85.770</td>\n",
       "      <td>38.222</td>\n",
       "      <td>-85.758</td>\n",
       "      <td>4</td>\n",
       "      <td>8</td>\n",
       "    </tr>\n",
       "  </tbody>\n",
       "</table>\n",
       "<p>538951 rows × 10 columns</p>\n",
       "</div>"
      ],
      "text/plain": [
       "                                                   Start                 End  \\\n",
       "TripID                                                                         \n",
       "0000045c-2677-3a7d-4b73-cad99a57     2019-06-26 19:30:00 2019-06-26 19:30:00   \n",
       "0000487b-92e6-50d6-7569-42ed3818     2019-09-22 14:30:00 2019-09-22 14:30:00   \n",
       "00006088-2579-e0d0-6a30-a15bb878     2019-08-21 17:30:00 2019-08-21 17:30:00   \n",
       "00008c1a-899b-8596-970f-9f6bf495     2019-07-03 11:00:00 2019-07-03 11:15:00   \n",
       "00009301-3225-2aea-a84a-165a480a     2019-11-22 10:45:00 2019-11-22 11:00:00   \n",
       "...                                                  ...                 ...   \n",
       "b2762b7e-bf5b-5f76-9d8d-84cb7665c240 2020-07-08 07:15:00 2020-07-08 07:30:00   \n",
       "3a812dca-b083-5e88-a59c-fdf19f14f769 2020-07-08 08:00:00 2020-07-08 09:30:00   \n",
       "ac526223-0238-50f1-8591-5965e7114059 2020-07-08 08:00:00 2020-07-08 08:30:00   \n",
       "e0c07dd2-3257-5138-82ae-d520c9ef8e1f 2020-07-08 08:15:00 2020-07-08 08:30:00   \n",
       "1a7e9820-615e-5918-9ae6-ec5256332b20 2020-07-08 08:30:00 2020-07-08 08:30:00   \n",
       "\n",
       "                                      TripDuration  TripDistance  \\\n",
       "TripID                                                             \n",
       "0000045c-2677-3a7d-4b73-cad99a57               3.0         0.000   \n",
       "0000487b-92e6-50d6-7569-42ed3818               5.0         0.000   \n",
       "00006088-2579-e0d0-6a30-a15bb878               6.0         0.330   \n",
       "00008c1a-899b-8596-970f-9f6bf495               6.0         0.640   \n",
       "00009301-3225-2aea-a84a-165a480a               7.0         0.599   \n",
       "...                                            ...           ...   \n",
       "b2762b7e-bf5b-5f76-9d8d-84cb7665c240          11.0         0.002   \n",
       "3a812dca-b083-5e88-a59c-fdf19f14f769          84.0         0.339   \n",
       "ac526223-0238-50f1-8591-5965e7114059          33.0         2.658   \n",
       "e0c07dd2-3257-5138-82ae-d520c9ef8e1f           7.0         1.117   \n",
       "1a7e9820-615e-5918-9ae6-ec5256332b20           9.0         1.568   \n",
       "\n",
       "                                      StartLatitude  StartLongitude  \\\n",
       "TripID                                                                \n",
       "0000045c-2677-3a7d-4b73-cad99a57             38.253         -85.756   \n",
       "0000487b-92e6-50d6-7569-42ed3818             38.203         -85.752   \n",
       "00006088-2579-e0d0-6a30-a15bb878             38.259         -85.733   \n",
       "00008c1a-899b-8596-970f-9f6bf495             38.217         -85.757   \n",
       "00009301-3225-2aea-a84a-165a480a             38.215         -85.759   \n",
       "...                                             ...             ...   \n",
       "b2762b7e-bf5b-5f76-9d8d-84cb7665c240         38.224         -85.760   \n",
       "3a812dca-b083-5e88-a59c-fdf19f14f769         38.263         -85.731   \n",
       "ac526223-0238-50f1-8591-5965e7114059         38.234         -85.763   \n",
       "e0c07dd2-3257-5138-82ae-d520c9ef8e1f         38.221         -85.763   \n",
       "1a7e9820-615e-5918-9ae6-ec5256332b20         38.208         -85.770   \n",
       "\n",
       "                                      EndLatitude  EndLongitude  DayOfWeek  \\\n",
       "TripID                                                                       \n",
       "0000045c-2677-3a7d-4b73-cad99a57           38.253       -85.755          4   \n",
       "0000487b-92e6-50d6-7569-42ed3818           38.204       -85.751          1   \n",
       "00006088-2579-e0d0-6a30-a15bb878           38.265       -85.739          4   \n",
       "00008c1a-899b-8596-970f-9f6bf495           38.221       -85.763          4   \n",
       "00009301-3225-2aea-a84a-165a480a           38.222       -85.764          6   \n",
       "...                                           ...           ...        ...   \n",
       "b2762b7e-bf5b-5f76-9d8d-84cb7665c240       38.224       -85.760          4   \n",
       "3a812dca-b083-5e88-a59c-fdf19f14f769       38.261       -85.737          4   \n",
       "ac526223-0238-50f1-8591-5965e7114059       38.234       -85.742          4   \n",
       "e0c07dd2-3257-5138-82ae-d520c9ef8e1f       38.213       -85.755          4   \n",
       "1a7e9820-615e-5918-9ae6-ec5256332b20       38.222       -85.758          4   \n",
       "\n",
       "                                      HourNum  \n",
       "TripID                                         \n",
       "0000045c-2677-3a7d-4b73-cad99a57           19  \n",
       "0000487b-92e6-50d6-7569-42ed3818           14  \n",
       "00006088-2579-e0d0-6a30-a15bb878           17  \n",
       "00008c1a-899b-8596-970f-9f6bf495           11  \n",
       "00009301-3225-2aea-a84a-165a480a           10  \n",
       "...                                       ...  \n",
       "b2762b7e-bf5b-5f76-9d8d-84cb7665c240        7  \n",
       "3a812dca-b083-5e88-a59c-fdf19f14f769        8  \n",
       "ac526223-0238-50f1-8591-5965e7114059        7  \n",
       "e0c07dd2-3257-5138-82ae-d520c9ef8e1f        8  \n",
       "1a7e9820-615e-5918-9ae6-ec5256332b20        8  \n",
       "\n",
       "[538951 rows x 10 columns]"
      ]
     },
     "execution_count": 25,
     "metadata": {},
     "output_type": "execute_result"
    }
   ],
   "source": [
    "df = df.reindex(columns=newcol)\n",
    "df"
   ]
  },
  {
   "cell_type": "markdown",
   "metadata": {
    "heading_collapsed": true,
    "id": "kubztf0qtSnb"
   },
   "source": [
    "# Drop invalid values and outliers\n",
    "\n",
    "Explore the dataset to sort out outliers and invalid data"
   ]
  },
  {
   "cell_type": "code",
   "execution_count": 26,
   "metadata": {
    "hidden": true,
    "id": "mqdUjJxutRhb"
   },
   "outputs": [],
   "source": [
    "import matplotlib.pyplot as plt"
   ]
  },
  {
   "cell_type": "markdown",
   "metadata": {
    "hidden": true,
    "id": "i0l1tI4S99Td"
   },
   "source": [
    "## Distance outlieres & negative distances"
   ]
  },
  {
   "cell_type": "code",
   "execution_count": 27,
   "metadata": {
    "colab": {
     "base_uri": "https://localhost:8080/"
    },
    "executionInfo": {
     "elapsed": 4593,
     "status": "ok",
     "timestamp": 1606912986299,
     "user": {
      "displayName": "Luca Baggi",
      "photoUrl": "https://lh3.googleusercontent.com/a-/AOh14Ghot0T9DM2E8PvGRS-yV6qnboQmIQtSshdYKGgL=s64",
      "userId": "02213171812671959923"
     },
     "user_tz": -60
    },
    "hidden": true,
    "id": "jE8XDZYXJSWM",
    "outputId": "1a2eb3c7-fbbf-4aac-d4c7-7193e8e09d92"
   },
   "outputs": [
    {
     "data": {
      "text/plain": [
       "(538951, 10)"
      ]
     },
     "execution_count": 27,
     "metadata": {},
     "output_type": "execute_result"
    }
   ],
   "source": [
    "df.shape # size before: to visualise how many rows we take out each time"
   ]
  },
  {
   "cell_type": "code",
   "execution_count": 28,
   "metadata": {
    "colab": {
     "base_uri": "https://localhost:8080/"
    },
    "executionInfo": {
     "elapsed": 4574,
     "status": "ok",
     "timestamp": 1606912986300,
     "user": {
      "displayName": "Luca Baggi",
      "photoUrl": "https://lh3.googleusercontent.com/a-/AOh14Ghot0T9DM2E8PvGRS-yV6qnboQmIQtSshdYKGgL=s64",
      "userId": "02213171812671959923"
     },
     "user_tz": -60
    },
    "hidden": true,
    "id": "8rsUbElfJYdD",
    "outputId": "688d3630-06f8-42a4-a154-272a7d29ede0"
   },
   "outputs": [
    {
     "name": "stdout",
     "output_type": "stream",
     "text": [
      "There are 1225 trips longer than 10 miles\n",
      "There are 113 trips longer than 20 miles\n"
     ]
    }
   ],
   "source": [
    "print('There are {} trips longer than 10 miles'.format(df.TripDistance.loc[(df.TripDistance > 10)].count()))\n",
    "print('There are {} trips longer than 20 miles'.format(df.TripDistance.loc[(df.TripDistance > 20)].count()))"
   ]
  },
  {
   "cell_type": "code",
   "execution_count": 29,
   "metadata": {
    "colab": {
     "base_uri": "https://localhost:8080/"
    },
    "executionInfo": {
     "elapsed": 4857,
     "status": "ok",
     "timestamp": 1606912986602,
     "user": {
      "displayName": "Luca Baggi",
      "photoUrl": "https://lh3.googleusercontent.com/a-/AOh14Ghot0T9DM2E8PvGRS-yV6qnboQmIQtSshdYKGgL=s64",
      "userId": "02213171812671959923"
     },
     "user_tz": -60
    },
    "hidden": true,
    "id": "nFjIclu8LUVv",
    "outputId": "ea4efd7a-cfed-42a0-c586-e28aaf20e715"
   },
   "outputs": [
    {
     "data": {
      "text/plain": [
       "538838"
      ]
     },
     "execution_count": 29,
     "metadata": {},
     "output_type": "execute_result"
    }
   ],
   "source": [
    "# drop trips greater than 20 miles\n",
    "\n",
    "df.drop(df.loc[df.TripDistance > 20].index, inplace = True)\n",
    "len(df)"
   ]
  },
  {
   "cell_type": "code",
   "execution_count": 30,
   "metadata": {
    "colab": {
     "base_uri": "https://localhost:8080/"
    },
    "executionInfo": {
     "elapsed": 4817,
     "status": "ok",
     "timestamp": 1606912986604,
     "user": {
      "displayName": "Luca Baggi",
      "photoUrl": "https://lh3.googleusercontent.com/a-/AOh14Ghot0T9DM2E8PvGRS-yV6qnboQmIQtSshdYKGgL=s64",
      "userId": "02213171812671959923"
     },
     "user_tz": -60
    },
    "hidden": true,
    "id": "BUWrY4CCNtx7",
    "outputId": "72915934-fd9a-4232-8a2c-6823a00b2a4b"
   },
   "outputs": [
    {
     "name": "stdout",
     "output_type": "stream",
     "text": [
      "There are 82 trips smaller than zero!\n"
     ]
    }
   ],
   "source": [
    "# count negative distances\n",
    "\n",
    "print('There are {} trips smaller than zero!'.format(df.TripDistance.loc[(df.TripDistance < 0)].count()))"
   ]
  },
  {
   "cell_type": "code",
   "execution_count": 31,
   "metadata": {
    "colab": {
     "base_uri": "https://localhost:8080/"
    },
    "executionInfo": {
     "elapsed": 4795,
     "status": "ok",
     "timestamp": 1606912986606,
     "user": {
      "displayName": "Luca Baggi",
      "photoUrl": "https://lh3.googleusercontent.com/a-/AOh14Ghot0T9DM2E8PvGRS-yV6qnboQmIQtSshdYKGgL=s64",
      "userId": "02213171812671959923"
     },
     "user_tz": -60
    },
    "hidden": true,
    "id": "c7Wz0AzdN3Ka",
    "outputId": "0d7304f0-9b35-47a9-ce35-e15926667ba2"
   },
   "outputs": [
    {
     "data": {
      "text/plain": [
       "538756"
      ]
     },
     "execution_count": 31,
     "metadata": {},
     "output_type": "execute_result"
    }
   ],
   "source": [
    "# remove those distances\n",
    "\n",
    "df.drop(df.loc[df.TripDistance < 0].index, inplace = True)\n",
    "len(df.index)"
   ]
  },
  {
   "cell_type": "markdown",
   "metadata": {
    "hidden": true,
    "id": "g25GDTGz2ne3"
   },
   "source": [
    "## Null time and duration, plus same start and end coordinates\n",
    "\n",
    "Let's look at which values are equal to zero for Duration and Distance"
   ]
  },
  {
   "cell_type": "code",
   "execution_count": 32,
   "metadata": {
    "colab": {
     "base_uri": "https://localhost:8080/"
    },
    "executionInfo": {
     "elapsed": 4760,
     "status": "ok",
     "timestamp": 1606912986607,
     "user": {
      "displayName": "Luca Baggi",
      "photoUrl": "https://lh3.googleusercontent.com/a-/AOh14Ghot0T9DM2E8PvGRS-yV6qnboQmIQtSshdYKGgL=s64",
      "userId": "02213171812671959923"
     },
     "user_tz": -60
    },
    "hidden": true,
    "id": "tspfdSLtTkOT",
    "outputId": "d1aa6c9b-609e-4709-df61-7815b56733a5"
   },
   "outputs": [
    {
     "name": "stdout",
     "output_type": "stream",
     "text": [
      "there are 85359 trips with null distance\n",
      "there are 2949 trips with null distance and duration\n",
      "there are 70283 trips with the same starting and end coordinates:\n",
      "be careful not to drop all of those!\n"
     ]
    }
   ],
   "source": [
    "# trips with null distance! What to do with them?\n",
    "\n",
    "null_distance = df.TripDistance == 0\n",
    "null_trips = (df.TripDistance == 0) & (df.TripDuration == 0)\n",
    "same_coordinates = (df.StartLatitude == df.EndLatitude) & (df.StartLongitude == df.EndLongitude)\n",
    "\n",
    "print(\n",
    "    'there are {} trips with null distance'.format(len(df.loc[null_distance].index)),\n",
    "    'there are {} trips with null distance and duration'.format(len(df.loc[null_trips])),\n",
    "    'there are {} trips with the same starting and end coordinates:'.format(len(df.loc[same_coordinates].index)),\n",
    "    'be careful not to drop all of those!',\n",
    "    sep = '\\n'\n",
    ")\n",
    "\n",
    "# Pay attention: these are values for which start and end coordinates are the same\n",
    "# These have to be kept because one might also start from the same zone and turn back to it"
   ]
  },
  {
   "cell_type": "markdown",
   "metadata": {
    "hidden": true,
    "id": "vOrJpCCFVzLV"
   },
   "source": [
    "One might carefully drop all lines with null trips and same coordinates. But the data provided has fuzzy coordinates, while distances are reported by the providers of the service. This means that we can think of the distance as true distance, because it is not derived from the coordinates!"
   ]
  },
  {
   "cell_type": "code",
   "execution_count": 33,
   "metadata": {
    "colab": {
     "base_uri": "https://localhost:8080/"
    },
    "executionInfo": {
     "elapsed": 5018,
     "status": "ok",
     "timestamp": 1606912986884,
     "user": {
      "displayName": "Luca Baggi",
      "photoUrl": "https://lh3.googleusercontent.com/a-/AOh14Ghot0T9DM2E8PvGRS-yV6qnboQmIQtSshdYKGgL=s64",
      "userId": "02213171812671959923"
     },
     "user_tz": -60
    },
    "hidden": true,
    "id": "25xjo3qz0BRf",
    "outputId": "facbcabe-69f3-49c6-bd25-622cc16c5d0f"
   },
   "outputs": [
    {
     "data": {
      "text/plain": [
       "535807"
      ]
     },
     "execution_count": 33,
     "metadata": {},
     "output_type": "execute_result"
    }
   ],
   "source": [
    "df.drop(df.loc[null_trips].index, inplace = True)\n",
    "len(df.index) # to check how many obs are left"
   ]
  },
  {
   "cell_type": "markdown",
   "metadata": {
    "hidden": true,
    "id": "q31NylM5SL3h"
   },
   "source": [
    "## Summary of the informations in the final dataset\n",
    "\n",
    "We dropped:\n",
    "\n",
    "1. 113 trips longer than 20 miles (note that all trips == 100 are outliers filtered by the Louisville Municipality).\n",
    "1. 82 trips with negative distance.\n",
    "1. 2949 null trips, that is with zero length and distance.\n",
    "\n",
    "We started from a dataset with 538951 rows and we end up with a dataset with 535807."
   ]
  },
  {
   "cell_type": "code",
   "execution_count": 34,
   "metadata": {
    "colab": {
     "base_uri": "https://localhost:8080/"
    },
    "executionInfo": {
     "elapsed": 5600,
     "status": "ok",
     "timestamp": 1606912987475,
     "user": {
      "displayName": "Luca Baggi",
      "photoUrl": "https://lh3.googleusercontent.com/a-/AOh14Ghot0T9DM2E8PvGRS-yV6qnboQmIQtSshdYKGgL=s64",
      "userId": "02213171812671959923"
     },
     "user_tz": -60
    },
    "hidden": true,
    "id": "r_qBmEFBc549",
    "outputId": "0ba97fbd-16b2-4e24-8046-ab202c97f02a"
   },
   "outputs": [
    {
     "data": {
      "text/plain": [
       "TripID\n",
       "0000045c-2677-3a7d-4b73-cad99a57           0\n",
       "0000487b-92e6-50d6-7569-42ed3818           0\n",
       "00006088-2579-e0d0-6a30-a15bb878         531\n",
       "00008c1a-899b-8596-970f-9f6bf495        1030\n",
       "00009301-3225-2aea-a84a-165a480a         964\n",
       "                                        ... \n",
       "b2762b7e-bf5b-5f76-9d8d-84cb7665c240       3\n",
       "3a812dca-b083-5e88-a59c-fdf19f14f769     545\n",
       "ac526223-0238-50f1-8591-5965e7114059    4277\n",
       "e0c07dd2-3257-5138-82ae-d520c9ef8e1f    1797\n",
       "1a7e9820-615e-5918-9ae6-ec5256332b20    2523\n",
       "Name: TripDistance, Length: 535807, dtype: int64"
      ]
     },
     "execution_count": 34,
     "metadata": {},
     "output_type": "execute_result"
    }
   ],
   "source": [
    "# convert miles into meters\n",
    "\n",
    "df.TripDistance = df.TripDistance.apply(lambda x: round(x*1609))\n",
    "df.TripDistance"
   ]
  },
  {
   "cell_type": "markdown",
   "metadata": {},
   "source": [
    "# Last Tweakings"
   ]
  },
  {
   "cell_type": "markdown",
   "metadata": {},
   "source": [
    "## Add Week Of Year Column & COVID-19 Dummy"
   ]
  },
  {
   "cell_type": "code",
   "execution_count": 35,
   "metadata": {},
   "outputs": [
    {
     "data": {
      "text/plain": [
       "Start             datetime64[ns]\n",
       "End               datetime64[ns]\n",
       "TripDuration             float64\n",
       "TripDistance               int64\n",
       "StartLatitude            float64\n",
       "StartLongitude           float64\n",
       "EndLatitude              float64\n",
       "EndLongitude             float64\n",
       "DayOfWeek                  int64\n",
       "HourNum                    int64\n",
       "dtype: object"
      ]
     },
     "execution_count": 35,
     "metadata": {},
     "output_type": "execute_result"
    }
   ],
   "source": [
    "df.dtypes"
   ]
  },
  {
   "cell_type": "code",
   "execution_count": 36,
   "metadata": {},
   "outputs": [],
   "source": [
    "df.TripDuration = df.TripDuration.astype('int64')"
   ]
  },
  {
   "cell_type": "code",
   "execution_count": 37,
   "metadata": {},
   "outputs": [],
   "source": [
    "df['WeekOfYear'] = df['Start'].dt.isocalendar().week.astype('int64')"
   ]
  },
  {
   "cell_type": "code",
   "execution_count": 38,
   "metadata": {},
   "outputs": [],
   "source": [
    "df['Covid'] = np.where(df['Start'] >= '2020-03-21 00:00:00', 1, 0)"
   ]
  },
  {
   "cell_type": "code",
   "execution_count": 39,
   "metadata": {},
   "outputs": [
    {
     "data": {
      "text/plain": [
       "Start             datetime64[ns]\n",
       "End               datetime64[ns]\n",
       "TripDuration               int64\n",
       "TripDistance               int64\n",
       "StartLatitude            float64\n",
       "StartLongitude           float64\n",
       "EndLatitude              float64\n",
       "EndLongitude             float64\n",
       "DayOfWeek                  int64\n",
       "HourNum                    int64\n",
       "WeekOfYear                 int64\n",
       "Covid                      int64\n",
       "dtype: object"
      ]
     },
     "execution_count": 39,
     "metadata": {},
     "output_type": "execute_result"
    }
   ],
   "source": [
    "df.dtypes"
   ]
  },
  {
   "cell_type": "markdown",
   "metadata": {
    "heading_collapsed": true,
    "id": "X0ziFT2_W_2C"
   },
   "source": [
    "# Export Dataset\n"
   ]
  },
  {
   "cell_type": "code",
   "execution_count": 40,
   "metadata": {
    "hidden": true
   },
   "outputs": [],
   "source": [
    "df.rename(columns = { 'TripDuration' : 'Duration', 'TripDistance' : 'Distance'}, inplace = True)"
   ]
  },
  {
   "cell_type": "code",
   "execution_count": 41,
   "metadata": {
    "hidden": true,
    "id": "xqZ7KHFVW-Xm"
   },
   "outputs": [],
   "source": [
    "df.to_csv('../data/tidy-scooters.csv')"
   ]
  }
 ],
 "metadata": {
  "colab": {
   "collapsed_sections": [
    "yu34taj5BQ6y",
    "jaeFjeJzBcUN",
    "alqNXxJwBg8w",
    "Ts3UvEsXBnqP",
    "l1p7oaKwKRh2",
    "FxhRstX0KVOx",
    "zJNj1cu-KY4G",
    "O2_yDvJrPJyQ",
    "Vp4NFu2AW74E"
   ],
   "name": "escooter-merge.ipynb",
   "provenance": [],
   "toc_visible": true
  },
  "kernelspec": {
   "display_name": "Python 3",
   "language": "python",
   "name": "python3"
  },
  "language_info": {
   "codemirror_mode": {
    "name": "ipython",
    "version": 3
   },
   "file_extension": ".py",
   "mimetype": "text/x-python",
   "name": "python",
   "nbconvert_exporter": "python",
   "pygments_lexer": "ipython3",
   "version": "3.8.5"
  },
  "varInspector": {
   "cols": {
    "lenName": 16,
    "lenType": 16,
    "lenVar": 40
   },
   "kernels_config": {
    "python": {
     "delete_cmd_postfix": "",
     "delete_cmd_prefix": "del ",
     "library": "var_list.py",
     "varRefreshCmd": "print(var_dic_list())"
    },
    "r": {
     "delete_cmd_postfix": ") ",
     "delete_cmd_prefix": "rm(",
     "library": "var_list.r",
     "varRefreshCmd": "cat(var_dic_list()) "
    }
   },
   "types_to_exclude": [
    "module",
    "function",
    "builtin_function_or_method",
    "instance",
    "_Feature"
   ],
   "window_display": false
  }
 },
 "nbformat": 4,
 "nbformat_minor": 1
}
