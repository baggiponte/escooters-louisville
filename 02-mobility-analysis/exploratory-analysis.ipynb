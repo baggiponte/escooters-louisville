{
 "cells": [
  {
   "cell_type": "markdown",
   "metadata": {
    "heading_collapsed": true,
    "id": "ANV_egcAbr2L"
   },
   "source": [
    "# Import libraries & load the data"
   ]
  },
  {
   "cell_type": "code",
   "execution_count": 3,
   "metadata": {
    "executionInfo": {
     "elapsed": 2283,
     "status": "ok",
     "timestamp": 1607023183877,
     "user": {
      "displayName": "Maria Grazia Cabitza",
      "photoUrl": "https://lh3.googleusercontent.com/a-/AOh14GgEpKcWzD3jm0s5VHob6SFfhGsrjzMCROFZWrJB6A=s64",
      "userId": "08220251560334052956"
     },
     "user_tz": -60
    },
    "hidden": true,
    "id": "RrbeEo3GZl4F"
   },
   "outputs": [],
   "source": [
    "# Import packages for the data analysis\n",
    "import pandas as pd\n",
    "import numpy as np"
   ]
  },
  {
   "cell_type": "code",
   "execution_count": null,
   "metadata": {
    "hidden": true,
    "id": "3xz0RRgJaSdp"
   },
   "outputs": [],
   "source": [
    "# Load dataset\n",
    "df = pd.read_csv('../data/tidy-scooters.csv',index_col ='TripID', parse_dates = ['Start', 'End'])"
   ]
  },
  {
   "cell_type": "code",
   "execution_count": null,
   "metadata": {
    "hidden": true,
    "id": "Qf0PBPndTW4B",
    "outputId": "0fdcfaa7-9200-4df2-f46b-c6c7538d8aba"
   },
   "outputs": [
    {
     "data": {
      "text/html": [
       "<div>\n",
       "<style scoped>\n",
       "    .dataframe tbody tr th:only-of-type {\n",
       "        vertical-align: middle;\n",
       "    }\n",
       "\n",
       "    .dataframe tbody tr th {\n",
       "        vertical-align: top;\n",
       "    }\n",
       "\n",
       "    .dataframe thead th {\n",
       "        text-align: right;\n",
       "    }\n",
       "</style>\n",
       "<table border=\"1\" class=\"dataframe\">\n",
       "  <thead>\n",
       "    <tr style=\"text-align: right;\">\n",
       "      <th></th>\n",
       "      <th>Duration</th>\n",
       "      <th>Distance</th>\n",
       "      <th>StartLatitude</th>\n",
       "      <th>StartLongitude</th>\n",
       "      <th>EndLatitude</th>\n",
       "      <th>EndLongitude</th>\n",
       "      <th>DayOfWeek</th>\n",
       "      <th>HourNum</th>\n",
       "    </tr>\n",
       "  </thead>\n",
       "  <tbody>\n",
       "    <tr>\n",
       "      <th>count</th>\n",
       "      <td>535807.000000</td>\n",
       "      <td>535807.000000</td>\n",
       "      <td>535807.000000</td>\n",
       "      <td>535807.000000</td>\n",
       "      <td>535807.000000</td>\n",
       "      <td>535807.000000</td>\n",
       "      <td>535807.000000</td>\n",
       "      <td>535807.000000</td>\n",
       "    </tr>\n",
       "    <tr>\n",
       "      <th>mean</th>\n",
       "      <td>14.785329</td>\n",
       "      <td>1701.184645</td>\n",
       "      <td>38.241013</td>\n",
       "      <td>-85.748863</td>\n",
       "      <td>38.239418</td>\n",
       "      <td>-85.746312</td>\n",
       "      <td>4.295502</td>\n",
       "      <td>14.251594</td>\n",
       "    </tr>\n",
       "    <tr>\n",
       "      <th>std</th>\n",
       "      <td>20.878673</td>\n",
       "      <td>2322.028584</td>\n",
       "      <td>0.041762</td>\n",
       "      <td>0.202535</td>\n",
       "      <td>0.233208</td>\n",
       "      <td>0.600207</td>\n",
       "      <td>2.061110</td>\n",
       "      <td>4.659727</td>\n",
       "    </tr>\n",
       "    <tr>\n",
       "      <th>min</th>\n",
       "      <td>0.000000</td>\n",
       "      <td>0.000000</td>\n",
       "      <td>25.778000</td>\n",
       "      <td>-122.666000</td>\n",
       "      <td>0.000000</td>\n",
       "      <td>-122.675000</td>\n",
       "      <td>1.000000</td>\n",
       "      <td>0.000000</td>\n",
       "    </tr>\n",
       "    <tr>\n",
       "      <th>25%</th>\n",
       "      <td>4.000000</td>\n",
       "      <td>257.000000</td>\n",
       "      <td>38.222000</td>\n",
       "      <td>-85.759000</td>\n",
       "      <td>38.222000</td>\n",
       "      <td>-85.759000</td>\n",
       "      <td>3.000000</td>\n",
       "      <td>11.000000</td>\n",
       "    </tr>\n",
       "    <tr>\n",
       "      <th>50%</th>\n",
       "      <td>8.000000</td>\n",
       "      <td>917.000000</td>\n",
       "      <td>38.251000</td>\n",
       "      <td>-85.755000</td>\n",
       "      <td>38.250000</td>\n",
       "      <td>-85.755000</td>\n",
       "      <td>4.000000</td>\n",
       "      <td>15.000000</td>\n",
       "    </tr>\n",
       "    <tr>\n",
       "      <th>75%</th>\n",
       "      <td>17.000000</td>\n",
       "      <td>2188.000000</td>\n",
       "      <td>38.256000</td>\n",
       "      <td>-85.744000</td>\n",
       "      <td>38.256000</td>\n",
       "      <td>-85.743000</td>\n",
       "      <td>6.000000</td>\n",
       "      <td>18.000000</td>\n",
       "    </tr>\n",
       "    <tr>\n",
       "      <th>max</th>\n",
       "      <td>3167.000000</td>\n",
       "      <td>32180.000000</td>\n",
       "      <td>50.110000</td>\n",
       "      <td>8.674000</td>\n",
       "      <td>50.117000</td>\n",
       "      <td>8.685000</td>\n",
       "      <td>7.000000</td>\n",
       "      <td>23.000000</td>\n",
       "    </tr>\n",
       "  </tbody>\n",
       "</table>\n",
       "</div>"
      ],
      "text/plain": [
       "            Duration       Distance  StartLatitude  StartLongitude  \\\n",
       "count  535807.000000  535807.000000  535807.000000   535807.000000   \n",
       "mean       14.785329    1701.184645      38.241013      -85.748863   \n",
       "std        20.878673    2322.028584       0.041762        0.202535   \n",
       "min         0.000000       0.000000      25.778000     -122.666000   \n",
       "25%         4.000000     257.000000      38.222000      -85.759000   \n",
       "50%         8.000000     917.000000      38.251000      -85.755000   \n",
       "75%        17.000000    2188.000000      38.256000      -85.744000   \n",
       "max      3167.000000   32180.000000      50.110000        8.674000   \n",
       "\n",
       "         EndLatitude   EndLongitude      DayOfWeek        HourNum  \n",
       "count  535807.000000  535807.000000  535807.000000  535807.000000  \n",
       "mean       38.239418     -85.746312       4.295502      14.251594  \n",
       "std         0.233208       0.600207       2.061110       4.659727  \n",
       "min         0.000000    -122.675000       1.000000       0.000000  \n",
       "25%        38.222000     -85.759000       3.000000      11.000000  \n",
       "50%        38.250000     -85.755000       4.000000      15.000000  \n",
       "75%        38.256000     -85.743000       6.000000      18.000000  \n",
       "max        50.117000       8.685000       7.000000      23.000000  "
      ]
     },
     "execution_count": 4,
     "metadata": {
      "tags": []
     },
     "output_type": "execute_result"
    }
   ],
   "source": [
    "df.describe()"
   ]
  },
  {
   "cell_type": "markdown",
   "metadata": {
    "heading_collapsed": true
   },
   "source": [
    "# Further data processing"
   ]
  },
  {
   "cell_type": "markdown",
   "metadata": {
    "hidden": true,
    "id": "1zF5bCiOTW4C"
   },
   "source": [
    "## Sort Outliers"
   ]
  },
  {
   "cell_type": "markdown",
   "metadata": {
    "hidden": true,
    "id": "mg8imGV8TW4D"
   },
   "source": [
    "Take out trips longer than 100 minutes"
   ]
  },
  {
   "cell_type": "code",
   "execution_count": null,
   "metadata": {
    "hidden": true,
    "id": "BvD7rmIrTW4D",
    "outputId": "07e4bcea-8e15-4664-94a2-d9ee33b43bcb"
   },
   "outputs": [
    {
     "data": {
      "text/plain": [
       "(531680, 10)"
      ]
     },
     "execution_count": 5,
     "metadata": {
      "tags": []
     },
     "output_type": "execute_result"
    }
   ],
   "source": [
    "df = df.loc[df.Duration <= 100]\n",
    "df.shape"
   ]
  },
  {
   "cell_type": "markdown",
   "metadata": {
    "hidden": true,
    "id": "DJYheoE4TW4E"
   },
   "source": [
    "## 'Split' the data"
   ]
  },
  {
   "cell_type": "markdown",
   "metadata": {
    "hidden": true,
    "id": "SgXY50XLTW4F"
   },
   "source": [
    "Because there are too many observations for length smaller than 100m and we want to model this behavior in 'short trip' and 'long trip'."
   ]
  },
  {
   "cell_type": "code",
   "execution_count": null,
   "metadata": {
    "hidden": true,
    "id": "2sP7kqnPTW4F",
    "outputId": "a3073aa6-fade-4ab0-bc78-a9c2b8bcc26e"
   },
   "outputs": [
    {
     "data": {
      "text/plain": [
       "107235"
      ]
     },
     "execution_count": 6,
     "metadata": {
      "tags": []
     },
     "output_type": "execute_result"
    }
   ],
   "source": [
    "# print the number of trips with shorter than 10 meters\n",
    "\n",
    "len(df.loc[df['Distance'] < 100].index)"
   ]
  },
  {
   "cell_type": "markdown",
   "metadata": {
    "hidden": true
   },
   "source": [
    "We create a column for the dummy variable `ShortTrip`"
   ]
  },
  {
   "cell_type": "code",
   "execution_count": null,
   "metadata": {
    "hidden": true,
    "id": "OM-irajlTW4G"
   },
   "outputs": [],
   "source": [
    "df['ShortTrip'] = np.where(df['Distance'] < 100, 1, 0)"
   ]
  },
  {
   "cell_type": "markdown",
   "metadata": {
    "hidden": true
   },
   "source": [
    "We can find the ratio between the two proportions:"
   ]
  },
  {
   "cell_type": "code",
   "execution_count": null,
   "metadata": {
    "hidden": true,
    "id": "KOxp2vuLTW4G",
    "outputId": "638d8027-d07e-4c28-be4f-2f55d638f752"
   },
   "outputs": [
    {
     "data": {
      "text/plain": [
       "0.252647575068619"
      ]
     },
     "execution_count": 8,
     "metadata": {
      "tags": []
     },
     "output_type": "execute_result"
    }
   ],
   "source": [
    "len(df.loc[df.ShortTrip == 1].index) / len(df.loc[df.ShortTrip == 0].index)"
   ]
  },
  {
   "cell_type": "code",
   "execution_count": null,
   "metadata": {
    "hidden": true,
    "id": "c-Hl1VlpTW4H",
    "outputId": "a8a36107-58a4-49bb-acfe-7b419b8d7aae"
   },
   "outputs": [
    {
     "data": {
      "text/plain": [
       "(424445, 11)"
      ]
     },
     "execution_count": 9,
     "metadata": {
      "tags": []
     },
     "output_type": "execute_result"
    }
   ],
   "source": [
    "trips = df.loc[df.ShortTrip == 0]\n",
    "trips.shape"
   ]
  },
  {
   "cell_type": "markdown",
   "metadata": {},
   "source": [
    "# Duration exploratory analysis"
   ]
  },
  {
   "cell_type": "markdown",
   "metadata": {},
   "source": [
    "First, let's change the type"
   ]
  },
  {
   "cell_type": "code",
   "execution_count": null,
   "metadata": {
    "id": "ggU5WXVDTW4I",
    "outputId": "850797d9-efc4-45e1-d569-7ffc366f1aab"
   },
   "outputs": [
    {
     "data": {
      "text/plain": [
       "TripID\n",
       "00006088-2579-e0d0-6a30-a15bb878         6\n",
       "00008c1a-899b-8596-970f-9f6bf495         6\n",
       "00009301-3225-2aea-a84a-165a480a         7\n",
       "000096c8-bac3-4d6f-7ebb-30b957ee         7\n",
       "0000f36b-a0c7-0378-3f34-e0fb80f6        32\n",
       "                                        ..\n",
       "0c2dead5-9296-571c-ab30-0f647ffcd531    22\n",
       "3a812dca-b083-5e88-a59c-fdf19f14f769    84\n",
       "ac526223-0238-50f1-8591-5965e7114059    33\n",
       "e0c07dd2-3257-5138-82ae-d520c9ef8e1f     7\n",
       "1a7e9820-615e-5918-9ae6-ec5256332b20     9\n",
       "Name: Duration, Length: 424445, dtype: int32"
      ]
     },
     "execution_count": 11,
     "metadata": {
      "tags": []
     },
     "output_type": "execute_result"
    }
   ],
   "source": [
    "trips['Duration'].astype('int32')"
   ]
  },
  {
   "cell_type": "markdown",
   "metadata": {},
   "source": [
    "Then, let's find the trips with 'duration' set to zero and round it to 1. It will be relevant for later."
   ]
  },
  {
   "cell_type": "code",
   "execution_count": null,
   "metadata": {
    "id": "bha9sZz-TW4H",
    "outputId": "90a3afcc-b38d-48e2-a7ff-42c7eceb8c42"
   },
   "outputs": [
    {
     "data": {
      "text/plain": [
       "107"
      ]
     },
     "execution_count": 10,
     "metadata": {
      "tags": []
     },
     "output_type": "execute_result"
    }
   ],
   "source": [
    "len(trips.loc[trips.Duration == 0].index)"
   ]
  },
  {
   "cell_type": "code",
   "execution_count": null,
   "metadata": {
    "id": "W6EJm001TW4J"
   },
   "outputs": [],
   "source": [
    "trips['Duration'].replace(0,1, inplace = True)"
   ]
  },
  {
   "cell_type": "markdown",
   "metadata": {
    "heading_collapsed": true
   },
   "source": [
    "## Some Plotting"
   ]
  },
  {
   "cell_type": "code",
   "execution_count": null,
   "metadata": {
    "hidden": true,
    "id": "KZ3f_Y04TW4J"
   },
   "outputs": [],
   "source": [
    "import matplotlib.pyplot as plt\n",
    "import seaborn as sns\n",
    "sns.set_theme(style=\"whitegrid\")"
   ]
  },
  {
   "cell_type": "code",
   "execution_count": null,
   "metadata": {
    "executionInfo": {
     "elapsed": 1074,
     "status": "aborted",
     "timestamp": 1606921705877,
     "user": {
      "displayName": "Maria Grazia Cabitza",
      "photoUrl": "https://lh3.googleusercontent.com/a-/AOh14GgEpKcWzD3jm0s5VHob6SFfhGsrjzMCROFZWrJB6A=s64",
      "userId": "08220251560334052956"
     },
     "user_tz": -60
    },
    "hidden": true,
    "id": "w1QyzsyAc70l",
    "outputId": "f13a57dc-f83a-44ba-a6dc-141ddd477203"
   },
   "outputs": [
    {
     "data": {
      "image/png": "[encoded data removed]",
      "text/plain": [
       "<Figure size 1080x360 with 1 Axes>"
      ]
     },
     "metadata": {
      "tags": []
     },
     "output_type": "display_data"
    }
   ],
   "source": [
    "# visualization boxplot duration <= 100 minutes \n",
    "\n",
    "fig, ax = plt.subplots(figsize = (15,5))\n",
    "\n",
    "ax = sns.boxplot(x = 'Duration', data = trips)\n",
    "plt.xlabel('Trip Duration (minutes)')\n",
    "\n",
    "plt.show()"
   ]
  },
  {
   "cell_type": "markdown",
   "metadata": {
    "hidden": true
   },
   "source": [
    "Let's see the distribution of the data:"
   ]
  },
  {
   "cell_type": "code",
   "execution_count": null,
   "metadata": {
    "hidden": true,
    "id": "d5X4oJ3vTW4L",
    "outputId": "cca2b664-0af6-40c8-c434-8a094fa72647"
   },
   "outputs": [
    {
     "data": {
      "text/plain": [
       "Text(0, 0.5, 'Counts')"
      ]
     },
     "execution_count": 18,
     "metadata": {
      "tags": []
     },
     "output_type": "execute_result"
    },
    {
     "data": {
      "image/png": "[encoded data removed]",
      "text/plain": [
       "<Figure size 432x288 with 1 Axes>"
      ]
     },
     "metadata": {
      "tags": []
     },
     "output_type": "display_data"
    }
   ],
   "source": [
    "plt.hist(trips.Duration, bins = 100)\n",
    "plt.xlabel(\"Trip Duration (minutes)\")\n",
    "plt.ylabel(\"Counts\")"
   ]
  },
  {
   "cell_type": "markdown",
   "metadata": {
    "id": "ZKHh8A-QaI24"
   },
   "source": [
    "## Fitting the data into a distribution"
   ]
  },
  {
   "cell_type": "code",
   "execution_count": null,
   "metadata": {
    "id": "qprj13HfTW4M"
   },
   "outputs": [],
   "source": [
    "import scipy"
   ]
  },
  {
   "cell_type": "markdown",
   "metadata": {
    "id": "eHtzVYglhhje"
   },
   "source": [
    "Let's try and see how a lognormal distribution fits the data:\n",
    "\n",
    "> In probability theory, a log-normal (or lognormal) distribution is a continuous probability distribution of a random variable whose logarithm is normally distributed. Thus, if the random variable X is log-normally distributed, then Y = ln(X) has a normal distribution.\n",
    "\n",
    "As a reference, see here: https://stackoverflow.com/questions/36795949/python-testing-if-my-data-follows-a-lognormal-distribution"
   ]
  },
  {
   "cell_type": "code",
   "execution_count": null,
   "metadata": {
    "id": "LXC9CX1u1xxM"
   },
   "outputs": [],
   "source": [
    "# scipy.stats.lognorm does calculate the distribution parameters using maximum likelihood estimation.\n",
    "shape, loc, scale = stats.lognorm.fit(trips.TripDuration)"
   ]
  },
  {
   "cell_type": "code",
   "execution_count": null,
   "metadata": {
    "id": "z5OxVBk5lZlQ"
   },
   "outputs": [],
   "source": [
    "print('shape: {}, location: {}, scale: {};'.format(shape, loc, scale))\n",
    "\n",
    "# scale close to 1 does not surprise, because of the central limit theorem\n",
    "mu, sigma = np.log(scale), shape\n",
    "\n",
    "print('the mean mu is the log of the scale: {}; \\nsigma is just the shape: {}'.format(mu, sigma))"
   ]
  },
  {
   "cell_type": "markdown",
   "metadata": {},
   "source": [
    "Let's plot the fitted distribution against the data.\n",
    "\n",
    "First, we need to define x as the domain of our fitted distributions' probability density function (pdf)."
   ]
  },
  {
   "cell_type": "code",
   "execution_count": 4,
   "metadata": {},
   "outputs": [],
   "source": [
    "x = np.linspace(1, 100, 100)"
   ]
  },
  {
   "cell_type": "markdown",
   "metadata": {},
   "source": [
    "Then, we create the fitted distribution's pdf out of x and the parameters we found:"
   ]
  },
  {
   "cell_type": "code",
   "execution_count": null,
   "metadata": {},
   "outputs": [],
   "source": [
    "fitted_data = scipy.stats.lognorm.pdf(x, shape, loc, scale)"
   ]
  },
  {
   "cell_type": "markdown",
   "metadata": {},
   "source": [
    "And finally we plot it against the histogram:"
   ]
  },
  {
   "cell_type": "code",
   "execution_count": null,
   "metadata": {},
   "outputs": [],
   "source": [
    "plt.hist(df.TripDistance, bins = 100)\n",
    "plt.plot(x, fitted_data, 'r-')"
   ]
  },
  {
   "cell_type": "markdown",
   "metadata": {},
   "source": [
    "The location was negative when including TimeDuration == 0 (that's why we rounded the data). One can also bound location to zero with `floc = 0` (see https://stackoverflow.com/questions/8747761/scipy-lognormal-distribution-parameters)\n"
   ]
  },
  {
   "cell_type": "markdown",
   "metadata": {
    "heading_collapsed": true,
    "id": "N-2tbZxPr_eF"
   },
   "source": [
    "### Testing for fit\n",
    "\n",
    "We employ the Kolmogorov-Smirnov (KS) test for assessing if the data is lognormally distributed.\n",
    "\n",
    "> The hypothesis regarding the distributional form **is rejected** if the test statistic, **D, is greater than the critical value** obtained from a table."
   ]
  },
  {
   "cell_type": "code",
   "execution_count": null,
   "metadata": {
    "hidden": true,
    "id": "gRrB5ZmvA1gR"
   },
   "outputs": [],
   "source": [
    "# kolmogorov smirnov test\n",
    "\n",
    "data = df['TripDuration'].to_numpy(np.float64)\n",
    "\n",
    "# the command requires specifying the parameters of the target distribution\n",
    "stats.kstest(data, stats.lognorm.cdf, args = (shape, loc, scale))"
   ]
  },
  {
   "cell_type": "markdown",
   "metadata": {
    "hidden": true
   },
   "source": [
    "Of course, we must reject the hypotheses! No data can be fit into any distribution: it just approximates it! We can only find the distribution that better approximates our sample. An alternative check is drawing the Q-Q plot (see https://towardsdatascience.com/q-q-plots-explained-5aa8495426c0):"
   ]
  },
  {
   "cell_type": "code",
   "execution_count": null,
   "metadata": {
    "hidden": true,
    "id": "PGw1SuYMTW4N"
   },
   "outputs": [],
   "source": [
    "#  observations\n",
    "observations = trips.TripDuration\n",
    "\n",
    "# standardise the observations\n",
    "#z = (observations-np.mean(observations))/np.std(observations)\n",
    "\n",
    "stats.probplot(observations, dist='lognorm', plot=plt)\n",
    "plt.title('Q-Q plot')"
   ]
  },
  {
   "cell_type": "markdown",
   "metadata": {
    "id": "nNJZIrw_TW4O"
   },
   "source": [
    "# Distance exploratory analysis"
   ]
  },
  {
   "cell_type": "code",
   "execution_count": null,
   "metadata": {
    "id": "8djbi-_MTW4O"
   },
   "outputs": [],
   "source": [
    "# visualization boxplot duration <= 100 minutes \n",
    "\n",
    "fig, ax = plt.subplots(figsize = (15,5))\n",
    "\n",
    "ax = sns.boxplot(x = 'TripDistance', data = df)\n",
    "plt.xlabel('Trip Distance (meters)')"
   ]
  },
  {
   "cell_type": "code",
   "execution_count": null,
   "metadata": {
    "id": "QY0geB8ITW4P"
   },
   "outputs": [],
   "source": [
    "# Histogram Trip Distance (meters)\n",
    "plt.hist(df.TripDistance, bins = 100)\n",
    "plt.xlabel(\"Trip Distance (meters)\")\n",
    "plt.ylabel(\"Counts\")"
   ]
  },
  {
   "cell_type": "markdown",
   "metadata": {},
   "source": [
    "## Fitting the data into a distribution, again"
   ]
  },
  {
   "cell_type": "markdown",
   "metadata": {},
   "source": [
    "First, fit the data:"
   ]
  },
  {
   "cell_type": "code",
   "execution_count": null,
   "metadata": {
    "id": "Ob9ftHiATW4P"
   },
   "outputs": [],
   "source": [
    "scale, loc, shape = scipy.stats.lognorm.fit(df.TripDistance)"
   ]
  },
  {
   "cell_type": "markdown",
   "metadata": {},
   "source": [
    "Then, define the linspace and draw the pdf."
   ]
  },
  {
   "cell_type": "code",
   "execution_count": null,
   "metadata": {},
   "outputs": [],
   "source": [
    "x2 = np.linspace(1, 10000, 100)\n",
    "\n",
    "fitted_data = scipy.stats.lognorm.pdf(x2, scale, loc, shape)"
   ]
  },
  {
   "cell_type": "markdown",
   "metadata": {},
   "source": [
    "Finally, plot it:"
   ]
  },
  {
   "cell_type": "code",
   "execution_count": null,
   "metadata": {},
   "outputs": [],
   "source": [
    "plt.hist(df.TripDistance, bins = 100)\n",
    "plt.plot(x, fitted_data, 'r-')"
   ]
  }
 ],
 "metadata": {
  "colab": {
   "collapsed_sections": [
    "KEejwecxc4I0"
   ],
   "name": "exploratory-analysis.ipynb",
   "provenance": []
  },
  "kernelspec": {
   "display_name": "Python 3",
   "language": "python",
   "name": "python3"
  },
  "language_info": {
   "codemirror_mode": {
    "name": "ipython",
    "version": 3
   },
   "file_extension": ".py",
   "mimetype": "text/x-python",
   "name": "python",
   "nbconvert_exporter": "python",
   "pygments_lexer": "ipython3",
   "version": "3.8.5"
  },
  "varInspector": {
   "cols": {
    "lenName": 16,
    "lenType": 16,
    "lenVar": 40
   },
   "kernels_config": {
    "python": {
     "delete_cmd_postfix": "",
     "delete_cmd_prefix": "del ",
     "library": "var_list.py",
     "varRefreshCmd": "print(var_dic_list())"
    },
    "r": {
     "delete_cmd_postfix": ") ",
     "delete_cmd_prefix": "rm(",
     "library": "var_list.r",
     "varRefreshCmd": "cat(var_dic_list()) "
    }
   },
   "types_to_exclude": [
    "module",
    "function",
    "builtin_function_or_method",
    "instance",
    "_Feature"
   ],
   "window_display": false
  }
 },
 "nbformat": 4,
 "nbformat_minor": 1
}
